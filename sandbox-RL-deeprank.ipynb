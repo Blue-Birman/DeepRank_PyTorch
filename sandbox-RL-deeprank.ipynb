{
 "cells": [
  {
   "cell_type": "code",
   "execution_count": 1,
   "metadata": {},
   "outputs": [],
   "source": [
    "%load_ext autoreload\n",
    "%autoreload 2"
   ]
  },
  {
   "cell_type": "code",
   "execution_count": 2,
   "metadata": {
    "scrolled": true
   },
   "outputs": [],
   "source": [
    "from __future__ import print_function\n",
    "import argparse\n",
    "import torch\n",
    "import torch.nn as nn\n",
    "import torch.nn.functional as F\n",
    "import torch.optim as optim\n",
    "from importlib import reload "
   ]
  },
  {
   "cell_type": "code",
   "execution_count": 3,
   "metadata": {},
   "outputs": [],
   "source": [
    "from deeprank.dataset import DataLoader, PairGenerator, ListGenerator\n",
    "from deeprank import utils"
   ]
  },
  {
   "cell_type": "code",
   "execution_count": 4,
   "metadata": {},
   "outputs": [
    {
     "data": {
      "text/plain": [
       "<torch._C.Generator at 0x7fcc0416faf0>"
      ]
     },
     "execution_count": 4,
     "metadata": {},
     "output_type": "execute_result"
    }
   ],
   "source": [
    "seed = 1234\n",
    "torch.manual_seed(seed)"
   ]
  },
  {
   "cell_type": "code",
   "execution_count": 5,
   "metadata": {},
   "outputs": [
    {
     "name": "stdout",
     "output_type": "stream",
     "text": [
      "[./data/letor/r5w/word_dict.txt]\n",
      "\tWord dict size: 193367\n",
      "[./data/letor/r5w/qid_query.txt]\n",
      "\tData size: 1692\n",
      "[./data/letor/r5w/docid_doc.txt]\n",
      "\tData size: 65323\n",
      "[./data/letor/r5w/embed_wiki-pdc_d50_norm]\n",
      "\tEmbedding size: 109282\n",
      "[./data/letor/r5w/embed.idf]\n",
      "\tEmbedding size: 193367\n",
      "Generate numpy embed: (193368, 50)\n",
      "Generate numpy embed: (193368, 1)\n"
     ]
    }
   ],
   "source": [
    "loader = DataLoader('./config/letor07_mp_fold1.model')"
   ]
  },
  {
   "cell_type": "code",
   "execution_count": 6,
   "metadata": {},
   "outputs": [],
   "source": [
    "import json\n",
    "letor_config = json.loads(open('./config/letor07_mp_fold1.model').read())\n",
    "#device = torch.device(\"cuda\")\n",
    "#device = torch.device(\"cpu\")\n",
    "select_device = torch.device(\"cpu\")\n",
    "rank_device = torch.device(\"cuda\")"
   ]
  },
  {
   "cell_type": "code",
   "execution_count": 7,
   "metadata": {},
   "outputs": [
    {
     "name": "stdout",
     "output_type": "stream",
     "text": [
      "[./data/letor/r5w/relation.train.fold1.txt]\n",
      "\tInstance size: 47828\n",
      "Pair Instance Count: 325439\n"
     ]
    }
   ],
   "source": [
    "Letor07Path = letor_config['data_dir']\n",
    "\n",
    "letor_config['fill_word'] = loader._PAD_\n",
    "letor_config['embedding'] = loader.embedding\n",
    "letor_config['feat_size'] = loader.feat_size\n",
    "letor_config['vocab_size'] = loader.embedding.shape[0]\n",
    "letor_config['embed_dim'] = loader.embedding.shape[1]\n",
    "letor_config['pad_value'] = loader._PAD_\n",
    "\n",
    "pair_gen = PairGenerator(rel_file=Letor07Path + '/relation.train.fold%d.txt'%(letor_config['fold']), \n",
    "                         config=letor_config)"
   ]
  },
  {
   "cell_type": "code",
   "execution_count": 8,
   "metadata": {},
   "outputs": [],
   "source": [
    "from deeprank import select_module\n",
    "from deeprank import rank_module"
   ]
  },
  {
   "cell_type": "code",
   "execution_count": 9,
   "metadata": {},
   "outputs": [
    {
     "data": {
      "text/plain": [
       "\"\\nletor_config['max_match'] = 20\\nletor_config['win_size'] = 5\\nselect_net = select_module.QueryCentricNet(config=letor_config, out_device=rank_device)\\nselect_net = select_net.to(select_device)\\nselect_net.train()\\n\""
      ]
     },
     "execution_count": 9,
     "metadata": {},
     "output_type": "execute_result"
    }
   ],
   "source": [
    "'''\n",
    "letor_config['max_match'] = 20\n",
    "letor_config['win_size'] = 5\n",
    "select_net = select_module.QueryCentricNet(config=letor_config, out_device=rank_device)\n",
    "select_net = select_net.to(select_device)\n",
    "select_net.train()\n",
    "'''"
   ]
  },
  {
   "cell_type": "code",
   "execution_count": 10,
   "metadata": {},
   "outputs": [],
   "source": [
    "letor_config['q_limit'] = 20\n",
    "letor_config['d_limit'] = 2000\n",
    "\n",
    "letor_config['max_match'] = 5\n",
    "letor_config['win_size'] = 5\n",
    "\n",
    "letor_config['q_rep_dim'] = 10\n",
    "letor_config['d_rep_dim'] = 10\n",
    "letor_config['q_rep_kernel'] = 3\n",
    "letor_config['d_rep_kernel'] = letor_config['win_size']*2+1\n",
    "\n",
    "letor_config['finetune_embed'] = False\n",
    "letor_config['lr'] = 0.0001\n",
    "select_net = select_module.GroupPointerNet(config=letor_config, out_device=rank_device)\n",
    "select_net = select_net.to(select_device)\n",
    "select_net.embedding.weight.data.copy_(torch.from_numpy(loader.embedding))\n",
    "select_net.train()\n",
    "select_optimizer = optim.RMSprop(select_net.parameters(), lr=letor_config['lr'])"
   ]
  },
  {
   "cell_type": "code",
   "execution_count": 11,
   "metadata": {},
   "outputs": [],
   "source": [
    "letor_config[\"dim_q\"] = 1\n",
    "letor_config[\"dim_d\"] = 1\n",
    "letor_config[\"dim_weight\"] = 1\n",
    "letor_config[\"c_reduce\"] = [1, 1]\n",
    "letor_config[\"k_reduce\"] = [1, 50]\n",
    "letor_config[\"s_reduce\"] = 1\n",
    "letor_config[\"p_reduce\"] = [0, 0]\n",
    "\n",
    "letor_config[\"c_en_conv_out\"] = 4\n",
    "letor_config[\"k_en_conv\"] = 3\n",
    "letor_config[\"s_en_conv\"] = 1\n",
    "letor_config[\"p_en_conv\"] = 1\n",
    "\n",
    "letor_config[\"en_pool_out\"] = [1, 1]\n",
    "letor_config[\"en_leaky\"] = 0.2\n",
    "\n",
    "letor_config[\"dim_gru_hidden\"] = 3\n",
    "\n",
    "letor_config['lr'] = 0.005\n",
    "letor_config['finetune_embed'] = False\n",
    "\n",
    "rank_net = rank_module.DeepRankNet(config=letor_config)\n",
    "rank_net = rank_net.to(rank_device)\n",
    "rank_net.embedding.weight.data.copy_(torch.from_numpy(loader.embedding))\n",
    "rank_net.qw_embedding.weight.data.copy_(torch.from_numpy(loader.idf_embedding))\n",
    "rank_net.train()\n",
    "rank_optimizer = optim.Adam(rank_net.parameters(), lr=letor_config['lr'])"
   ]
  },
  {
   "cell_type": "code",
   "execution_count": 12,
   "metadata": {},
   "outputs": [],
   "source": [
    "def to_device(*variables, device):\n",
    "    return (torch.from_numpy(variable).to(device) for variable in variables)"
   ]
  },
  {
   "cell_type": "code",
   "execution_count": 13,
   "metadata": {},
   "outputs": [],
   "source": [
    "def to_device_raw(*variables, device):\n",
    "    return (variable.to(device) for variable in variables)"
   ]
  },
  {
   "cell_type": "code",
   "execution_count": 14,
   "metadata": {},
   "outputs": [],
   "source": [
    "def show_text(x):\n",
    "    print(' '.join([loader.word_dict[w.item()] for w in x]))"
   ]
  },
  {
   "cell_type": "code",
   "execution_count": 15,
   "metadata": {},
   "outputs": [
    {
     "name": "stdout",
     "output_type": "stream",
     "text": [
      "bipolar disorder children adolescent search omhsa dpw links dpw home dpw service apply service online home community base service form publication county assistance offices search dpw dpw site map contact dpw omhsa service behavior health choice advisory committee child adolescent service system program cassp cassp publication cassp training institute best practice cross system community support program csp community hospital integrate plan county mental health system drug alcohol county offices seclusion restraint request proposal organization bureau state hospital omhsa state formulary omh bulletin omhsa publication contact omhsa bipolar disorder children adolescent harriet editor edition newsletter different most previous usually theme programmatic transition service partner family mental health juvenile justice collaboration school mental health cultural competence natural support community resources rarely newsletter focus specific mental health disorder relate provision program service part story told child family edition depart usual focus entire disorder childhood onset bipolar disorder consequently technical normal feature perspective diagnosis treatment clinician work children adolescent bipolar disorder expect different clinician approach subject different agree bipolar disorder children adolescent real despite previous thinking limited adult agree children disorder deserve best thinking attention discover effective intervention treatment medication different therapeutic method add human real life perspective clinical discussion edition features two mother daughter story emphasize value real world success children bipolar disorder website contain useful information childhood bipolar disorder national institute mental health www nimh nih gov juvenile bipolar research foundation www org bipolar child www com national alliance mental ill www nami org helpline bipolar child html america academy child adolescent psychiatrist www aacap org fact family child adolescent bipolar foundation www bpkid org lizzie simon detour bipolar road trip www com detour html upcoming newsletter topic june kid stigma deadline april september relationship physical mental health deadline july december resilience children adolescent sed deadline october march eat disorder deadline january contribute article topic please contact editor advance topic subject change note mail list edition newsletter mail people december remove name did respond indicate wish continue receive newsletter snail mail e mail continue newsletter free charge receive especially encourage people join cassp listserv e mail notification new edition available online important update cassp conference cassp institute training program youd subscribe listserv please send e mail address editor state pa modify www dpw state pa omhsa mar asp $ [PAD] [PAD] [PAD] [PAD] [PAD] [PAD] [PAD] [PAD] [PAD] [PAD] [PAD] [PAD] [PAD] [PAD] [PAD] [PAD] [PAD] [PAD] [PAD] [PAD] [PAD] [PAD] [PAD] [PAD] [PAD] [PAD] [PAD] [PAD] [PAD] [PAD] [PAD] [PAD] [PAD] [PAD] [PAD] [PAD] [PAD] [PAD] [PAD] [PAD] [PAD] [PAD] [PAD] [PAD] [PAD] [PAD] [PAD] [PAD] [PAD] [PAD] [PAD] [PAD] [PAD] [PAD] [PAD] [PAD] [PAD] [PAD] [PAD] [PAD] [PAD] [PAD] [PAD] [PAD] [PAD] [PAD] [PAD] [PAD] [PAD] [PAD] [PAD] [PAD] [PAD] [PAD] [PAD] [PAD] [PAD] [PAD] [PAD] [PAD] [PAD] [PAD] [PAD] [PAD] [PAD] [PAD] [PAD] [PAD] [PAD] [PAD] [PAD] [PAD] [PAD] [PAD] [PAD] [PAD] [PAD] [PAD] [PAD] [PAD] [PAD] [PAD] [PAD] [PAD] [PAD] [PAD] [PAD] [PAD] [PAD] [PAD] [PAD] [PAD] [PAD] [PAD] [PAD] [PAD] [PAD] [PAD] [PAD] [PAD] [PAD] [PAD] [PAD] [PAD] [PAD] [PAD] [PAD] [PAD] [PAD] [PAD] [PAD] [PAD] [PAD] [PAD] [PAD] [PAD] [PAD] [PAD] [PAD] [PAD] [PAD] [PAD] [PAD] [PAD] [PAD] [PAD] [PAD] [PAD] [PAD] [PAD] [PAD] [PAD] [PAD] [PAD] [PAD] [PAD] [PAD] [PAD] [PAD] [PAD] [PAD] [PAD] [PAD] [PAD] [PAD] [PAD] [PAD] [PAD] [PAD] [PAD] [PAD] [PAD] [PAD] [PAD] [PAD] [PAD] [PAD] [PAD] [PAD] [PAD] [PAD] [PAD] [PAD] [PAD] [PAD] [PAD] [PAD] [PAD] [PAD] [PAD] [PAD] [PAD] [PAD] [PAD] [PAD] [PAD] [PAD] [PAD] [PAD] [PAD] [PAD] [PAD] [PAD] [PAD] [PAD] [PAD] [PAD] [PAD] [PAD] [PAD] [PAD] [PAD] [PAD] [PAD] [PAD] [PAD] [PAD] [PAD] [PAD] [PAD] [PAD] [PAD] [PAD] [PAD] [PAD] [PAD] [PAD] [PAD] [PAD] [PAD] [PAD] [PAD] [PAD] [PAD] [PAD] [PAD] [PAD] [PAD] [PAD] [PAD] [PAD] [PAD] [PAD] [PAD] [PAD] [PAD] [PAD] [PAD] [PAD] [PAD] [PAD] [PAD] [PAD] [PAD] [PAD] [PAD] [PAD] [PAD] [PAD] [PAD] [PAD] [PAD] [PAD] [PAD] [PAD] [PAD] [PAD] [PAD] [PAD] [PAD] [PAD] [PAD] [PAD] [PAD] [PAD] [PAD] [PAD] [PAD] [PAD] [PAD] [PAD] [PAD] [PAD] [PAD] [PAD] [PAD] [PAD] [PAD] [PAD] [PAD] [PAD] [PAD] [PAD] [PAD] [PAD] [PAD] [PAD] [PAD] [PAD] [PAD] [PAD] [PAD] [PAD] [PAD] [PAD] [PAD] [PAD] [PAD] [PAD] [PAD] [PAD] [PAD] [PAD] [PAD] [PAD] [PAD] [PAD] [PAD] [PAD] [PAD] [PAD] [PAD] [PAD] [PAD] [PAD] [PAD] [PAD] [PAD] [PAD] [PAD] [PAD] [PAD] [PAD] [PAD] [PAD] [PAD] [PAD] [PAD] [PAD] [PAD] [PAD] [PAD] [PAD] [PAD] [PAD] [PAD] [PAD] [PAD] [PAD] [PAD] [PAD] [PAD] [PAD] [PAD] [PAD] [PAD] [PAD] [PAD] [PAD] [PAD] [PAD] [PAD] [PAD] [PAD] [PAD] [PAD] [PAD] [PAD] [PAD] [PAD] [PAD] [PAD] [PAD] [PAD] [PAD] [PAD] [PAD] [PAD] [PAD] [PAD] [PAD] [PAD] [PAD] [PAD] [PAD] [PAD] [PAD] [PAD] [PAD] [PAD] [PAD] [PAD] [PAD] [PAD] [PAD] [PAD] [PAD] [PAD] [PAD] [PAD] [PAD] [PAD] [PAD] [PAD] [PAD] [PAD] [PAD] [PAD] [PAD] [PAD] [PAD] [PAD] [PAD] [PAD] [PAD] [PAD] [PAD] [PAD] [PAD] [PAD] [PAD] [PAD] [PAD] [PAD] [PAD] [PAD] [PAD] [PAD] [PAD] [PAD] [PAD] [PAD] [PAD] [PAD] [PAD] [PAD] [PAD] [PAD] [PAD] [PAD] [PAD] [PAD] [PAD] [PAD] [PAD] [PAD] [PAD] [PAD] [PAD] [PAD] [PAD] [PAD] [PAD] [PAD] [PAD] [PAD] [PAD] [PAD] [PAD] [PAD] [PAD] [PAD] [PAD] [PAD] [PAD] [PAD] [PAD] [PAD] [PAD] [PAD] [PAD] [PAD] [PAD] [PAD] [PAD] [PAD] [PAD] [PAD] [PAD] [PAD] [PAD] [PAD] [PAD] [PAD] [PAD] [PAD] [PAD] [PAD] [PAD] [PAD] [PAD] [PAD] [PAD] [PAD] [PAD] [PAD] [PAD] [PAD] [PAD] [PAD] [PAD] [PAD] [PAD] [PAD] [PAD] [PAD] [PAD] [PAD] [PAD] [PAD] [PAD] [PAD] [PAD] [PAD] [PAD] [PAD] [PAD] [PAD] [PAD] [PAD] [PAD] [PAD] [PAD] [PAD] [PAD] [PAD] [PAD] [PAD] [PAD] [PAD] [PAD] [PAD] [PAD] [PAD] [PAD] [PAD] [PAD] [PAD] [PAD] [PAD] [PAD] [PAD] [PAD] [PAD] [PAD] [PAD] [PAD] [PAD] [PAD] [PAD] [PAD] [PAD] [PAD] [PAD] [PAD] [PAD] [PAD] [PAD] [PAD] [PAD] [PAD] [PAD] [PAD] [PAD] [PAD] [PAD] [PAD] [PAD] [PAD] [PAD] [PAD] [PAD] [PAD] [PAD] [PAD] [PAD] [PAD] [PAD] [PAD] [PAD] [PAD] [PAD] [PAD] [PAD] [PAD] [PAD] [PAD] [PAD] [PAD] [PAD] [PAD] [PAD] [PAD] [PAD] [PAD] [PAD] [PAD] [PAD] [PAD] [PAD] [PAD] [PAD] [PAD] [PAD] [PAD] [PAD] [PAD] [PAD] [PAD] [PAD] [PAD] [PAD] [PAD] [PAD] [PAD] [PAD] [PAD] [PAD] [PAD] [PAD] [PAD] [PAD] [PAD] [PAD] [PAD] [PAD] [PAD] [PAD] [PAD] [PAD] [PAD] [PAD] [PAD] [PAD] [PAD] [PAD] [PAD] [PAD] [PAD] [PAD] [PAD] [PAD] [PAD] [PAD] [PAD] [PAD] [PAD] [PAD] [PAD] [PAD] [PAD] [PAD] [PAD] [PAD] [PAD] [PAD] [PAD] [PAD] [PAD] [PAD] [PAD] [PAD] [PAD] [PAD] [PAD] [PAD] [PAD] [PAD] [PAD] [PAD] [PAD] [PAD] [PAD] [PAD] [PAD] [PAD] [PAD] [PAD] [PAD] [PAD] [PAD] [PAD] [PAD] [PAD] [PAD] [PAD] [PAD] [PAD] [PAD] [PAD] [PAD] [PAD] [PAD] [PAD] [PAD] [PAD] [PAD] [PAD] [PAD] [PAD] [PAD] [PAD] [PAD] [PAD] [PAD] [PAD] [PAD] [PAD] [PAD] [PAD] [PAD] [PAD] [PAD] [PAD] [PAD] [PAD] [PAD] [PAD] [PAD] [PAD] [PAD] [PAD] [PAD] [PAD] [PAD] [PAD] [PAD] [PAD] [PAD] [PAD] [PAD] [PAD] [PAD] [PAD] [PAD] [PAD] [PAD] [PAD] [PAD] [PAD] [PAD] [PAD] [PAD] [PAD] [PAD] [PAD] [PAD] [PAD] [PAD] [PAD] [PAD] [PAD] [PAD] [PAD] [PAD] [PAD] [PAD] [PAD] [PAD] [PAD] [PAD] [PAD] [PAD] [PAD] [PAD] [PAD] [PAD] [PAD] [PAD] [PAD] [PAD] [PAD] [PAD] [PAD] [PAD] [PAD] [PAD] [PAD] [PAD] [PAD] [PAD] [PAD] [PAD] [PAD] [PAD] [PAD] [PAD] [PAD] [PAD] [PAD] [PAD] [PAD] [PAD] [PAD] [PAD] [PAD] [PAD] [PAD] [PAD] [PAD] [PAD] [PAD] [PAD] [PAD] [PAD] [PAD] [PAD] [PAD] [PAD] [PAD] [PAD] [PAD] [PAD] [PAD] [PAD] [PAD] [PAD] [PAD] [PAD] [PAD] [PAD] [PAD] [PAD] [PAD] [PAD] [PAD] [PAD] [PAD] [PAD] [PAD] [PAD] [PAD] [PAD] [PAD] [PAD] [PAD] [PAD] [PAD] [PAD] [PAD] [PAD] [PAD] [PAD] [PAD] [PAD] [PAD] [PAD] [PAD] [PAD] [PAD] [PAD] [PAD] [PAD] [PAD] [PAD] [PAD] [PAD] [PAD] [PAD] [PAD] [PAD] [PAD] [PAD] [PAD] [PAD] [PAD] [PAD] [PAD] [PAD] [PAD] [PAD] [PAD] [PAD] [PAD] [PAD] [PAD] [PAD] [PAD] [PAD] [PAD] [PAD] [PAD] [PAD] [PAD] [PAD] [PAD] [PAD] [PAD] [PAD] [PAD] [PAD] [PAD] [PAD] [PAD] [PAD] [PAD] [PAD] [PAD] [PAD] [PAD] [PAD] [PAD] [PAD] [PAD] [PAD] [PAD] [PAD] [PAD] [PAD] [PAD] [PAD] [PAD] [PAD] [PAD] [PAD] [PAD] [PAD] [PAD] [PAD] [PAD] [PAD] [PAD] [PAD] [PAD] [PAD] [PAD] [PAD] [PAD] [PAD] [PAD] [PAD] [PAD] [PAD] [PAD] [PAD] [PAD] [PAD] [PAD] [PAD] [PAD] [PAD] [PAD] [PAD] [PAD] [PAD] [PAD] [PAD] [PAD] [PAD] [PAD] [PAD] [PAD] [PAD] [PAD] [PAD] [PAD] [PAD] [PAD] [PAD] [PAD] [PAD] [PAD] [PAD] [PAD] [PAD] [PAD] [PAD] [PAD] [PAD] [PAD] [PAD] [PAD] [PAD] [PAD] [PAD] [PAD] [PAD] [PAD] [PAD] [PAD] [PAD] [PAD] [PAD] [PAD] [PAD] [PAD] [PAD] [PAD] [PAD] [PAD] [PAD] [PAD] [PAD] [PAD] [PAD] [PAD] [PAD] [PAD] [PAD] [PAD] [PAD] [PAD] [PAD] [PAD] [PAD] [PAD] [PAD] [PAD] [PAD] [PAD] [PAD] [PAD] [PAD] [PAD] [PAD] [PAD] [PAD] [PAD] [PAD] [PAD] [PAD] [PAD] [PAD] [PAD] [PAD] [PAD] [PAD] [PAD] [PAD] [PAD] [PAD] [PAD] [PAD] [PAD] [PAD] [PAD] [PAD] [PAD] [PAD] [PAD] [PAD] [PAD] [PAD] [PAD] [PAD] [PAD] [PAD] [PAD] [PAD] [PAD] [PAD] [PAD] [PAD] [PAD] [PAD] [PAD] [PAD] [PAD] [PAD] [PAD] [PAD] [PAD] [PAD] [PAD] [PAD] [PAD] [PAD] [PAD] [PAD] [PAD] [PAD] [PAD] [PAD] [PAD] [PAD] [PAD] [PAD] [PAD] [PAD] [PAD] [PAD] [PAD] [PAD] [PAD] [PAD] [PAD] [PAD] [PAD] [PAD] [PAD] [PAD] [PAD] [PAD] [PAD] [PAD] [PAD] [PAD] [PAD] [PAD] [PAD] [PAD] [PAD] [PAD] [PAD] [PAD] [PAD] [PAD] [PAD] [PAD] [PAD] [PAD] [PAD] [PAD] [PAD] [PAD] [PAD] [PAD] [PAD] [PAD] [PAD] [PAD] [PAD] [PAD] [PAD] [PAD] [PAD] [PAD] [PAD] [PAD] [PAD] [PAD] [PAD] [PAD] [PAD] [PAD] [PAD] [PAD] [PAD] [PAD] [PAD] [PAD] [PAD] [PAD] [PAD] [PAD] [PAD] [PAD] [PAD] [PAD] [PAD] [PAD] [PAD] [PAD] [PAD] [PAD] [PAD] [PAD] [PAD] [PAD] [PAD] [PAD] [PAD] [PAD] [PAD] [PAD] [PAD] [PAD] [PAD] [PAD] [PAD] [PAD] [PAD] [PAD] [PAD] [PAD] [PAD] [PAD] [PAD] [PAD] [PAD] [PAD] [PAD] [PAD] [PAD] [PAD] [PAD] [PAD] [PAD] [PAD] [PAD] [PAD] [PAD] [PAD] [PAD] [PAD] [PAD] [PAD] [PAD] [PAD] [PAD] [PAD] [PAD] [PAD] [PAD] [PAD] [PAD] [PAD] [PAD] [PAD] [PAD] [PAD] [PAD] [PAD] [PAD] [PAD] [PAD] [PAD] [PAD] [PAD] [PAD] [PAD] [PAD] [PAD] [PAD] [PAD] [PAD] [PAD] [PAD] [PAD] [PAD] [PAD] [PAD] [PAD] [PAD] [PAD] [PAD] [PAD] [PAD] [PAD] [PAD] [PAD] [PAD] [PAD] [PAD] [PAD] [PAD] [PAD] [PAD] [PAD] [PAD] [PAD] [PAD] [PAD] [PAD] [PAD] [PAD] [PAD] [PAD] [PAD] [PAD] [PAD] [PAD] [PAD] [PAD] [PAD] [PAD] [PAD] [PAD] [PAD] [PAD] [PAD] [PAD] [PAD] [PAD] [PAD] [PAD] [PAD] [PAD] [PAD] [PAD] [PAD] [PAD] [PAD] [PAD] [PAD] [PAD] [PAD] [PAD] [PAD] [PAD] [PAD] [PAD] [PAD] [PAD] [PAD] [PAD] [PAD] [PAD] [PAD] [PAD] [PAD] [PAD] [PAD] [PAD] [PAD] [PAD] [PAD] [PAD] [PAD] [PAD] [PAD] [PAD] [PAD] [PAD] [PAD] [PAD] [PAD] [PAD] [PAD] [PAD] [PAD] [PAD] [PAD] [PAD] [PAD] [PAD] [PAD] [PAD] [PAD] [PAD] [PAD] [PAD] [PAD] [PAD] [PAD] [PAD] [PAD] [PAD] [PAD] [PAD] [PAD] [PAD] [PAD] [PAD] [PAD] [PAD] [PAD] [PAD] [PAD] [PAD] [PAD] [PAD] [PAD] [PAD] [PAD] [PAD] [PAD] [PAD] [PAD] [PAD] [PAD] [PAD] [PAD] [PAD] [PAD] [PAD] [PAD] [PAD] [PAD] [PAD] [PAD] [PAD] [PAD] [PAD] [PAD] [PAD] [PAD] [PAD] [PAD] [PAD] [PAD] [PAD] [PAD] [PAD] [PAD] [PAD] [PAD] [PAD] [PAD] [PAD] [PAD] [PAD] [PAD] [PAD] [PAD] [PAD] [PAD] [PAD] [PAD] [PAD] [PAD] [PAD] [PAD] [PAD] [PAD] [PAD] [PAD] [PAD] [PAD] [PAD] [PAD] [PAD] [PAD] [PAD] [PAD] [PAD] [PAD] [PAD] [PAD] [PAD] [PAD] [PAD] [PAD] [PAD] [PAD] [PAD] [PAD] [PAD] [PAD] [PAD] [PAD] [PAD] [PAD] [PAD] [PAD] [PAD] [PAD] [PAD] [PAD] [PAD] [PAD] [PAD] [PAD] [PAD] [PAD] [PAD] [PAD] [PAD] [PAD] [PAD] [PAD] [PAD] [PAD] [PAD] [PAD] [PAD] [PAD] [PAD] [PAD] [PAD] [PAD] [PAD] [PAD] [PAD] [PAD] [PAD] [PAD] [PAD] [PAD] [PAD] [PAD] [PAD] [PAD] [PAD] [PAD] [PAD] [PAD] [PAD] [PAD] [PAD] [PAD] [PAD] [PAD] [PAD] [PAD] [PAD] [PAD] [PAD] [PAD] [PAD] [PAD] [PAD] [PAD] [PAD] [PAD] [PAD] [PAD] [PAD] [PAD] [PAD] [PAD] [PAD] [PAD] [PAD] [PAD] [PAD] [PAD] [PAD] [PAD] [PAD] [PAD] [PAD] [PAD] [PAD] [PAD] [PAD] [PAD] [PAD] [PAD] [PAD] [PAD] [PAD] [PAD] [PAD] [PAD] [PAD] [PAD] [PAD] [PAD] [PAD] [PAD] [PAD] [PAD] [PAD] [PAD] [PAD] [PAD] [PAD] [PAD] [PAD] [PAD] [PAD] [PAD] [PAD] [PAD] [PAD] [PAD] [PAD] [PAD] [PAD] [PAD] [PAD] [PAD] [PAD] [PAD] [PAD] [PAD] [PAD] [PAD] [PAD] [PAD] [PAD] [PAD] [PAD] [PAD] [PAD] [PAD] [PAD] [PAD] [PAD] [PAD] [PAD] [PAD] [PAD] [PAD] [PAD] [PAD] [PAD] [PAD] [PAD] [PAD] [PAD] [PAD] [PAD] [PAD] [PAD] [PAD] [PAD] [PAD] [PAD] [PAD] [PAD] [PAD] [PAD] [PAD] [PAD] [PAD] [PAD] [PAD] [PAD] [PAD] [PAD] [PAD] [PAD] [PAD] [PAD] [PAD] [PAD] [PAD] [PAD] [PAD] [PAD] [PAD] [PAD] [PAD] [PAD] [PAD] [PAD] [PAD] [PAD] [PAD] [PAD] [PAD]\n"
     ]
    },
    {
     "name": "stdout",
     "output_type": "stream",
     "text": [
      "bipolar disease in adolescent $$ [PAD] [PAD] [PAD] [PAD] [PAD] [PAD] [PAD] [PAD] [PAD] [PAD] [PAD] [PAD] [PAD] [PAD] [PAD]\n",
      "0 omhsa bipolar disorder children adolescent harriet editor edition newsletter different most\n",
      "1 topic june kid stigma deadline april september relationship physical mental health\n",
      "2 attention discover effective intervention treatment medication different therapeutic method add human\n",
      "3 omhsa dpw links dpw home dpw service apply service online home\n",
      "4 [PAD] [PAD] [PAD] [PAD] [PAD] [PAD] [PAD] [PAD] [PAD] [PAD] [PAD]\n"
     ]
    }
   ],
   "source": [
    "X1, X1_len, X1_id, X2, X2_len, X2_id, Y, F = \\\n",
    "        pair_gen.get_batch(data1=loader.query_data, data2=loader.doc_data)\n",
    "X1, X1_len, X2, X2_len, Y, F = \\\n",
    "        to_device(X1, X1_len, X2, X2_len, Y, F, device=select_device)\n",
    "\n",
    "show_text(X2[0])\n",
    "\n",
    "X1, X2_new, X1_len, X2_len_new, X2_pos = select_net(X1, X2, X1_len, X2_len, X1_id, X2_id)\n",
    "\n",
    "show_text(X1[0])\n",
    "for i in range(5):\n",
    "    print(i, end=' ')\n",
    "    show_text(X2_new[0][i])"
   ]
  },
  {
   "cell_type": "code",
   "execution_count": 16,
   "metadata": {},
   "outputs": [
    {
     "name": "stdout",
     "output_type": "stream",
     "text": [
      "department state application passport mail please detach retain instruction sheet record date application use form complete checklist determine eligible use form submit most recent passport least years old most recent passport issue issue most recent passport years ago use name most recent passport name change marriage court order submit proper documentation reflect name change yes yes yes yes answer four statement stop use form apply application form ds making personal appearance passport agent postal clerk clerk court authorize accept passport application careful follow instruction reverse page incomplete unacceptable application delay issue passport please visit website travel state gov contact national passport information center tdd credit card user tdd information question inquiry ds page send application form most recent passport marriage certificate court order name change passport process fee two recent identical photograph light plain background taken month detailed information item most recent passport issue age old current name item issue past years passport damage apply ds application form specify marriage certificate court order name current use differ name most recent passport submit marriage certificate court order showing change name name change document bear official seal issue authority uncertify copy notarize document accept document return passport document name change manner apply ds application form making personal appearance passport agency clerk federal state court record judge clerk probate court accept passport application designate municipal county official designate postal employee authorize post office passport process fee enclose passport process fee form personal check money order make check payable department state full name date birth applicant type print check send cash passport service responsible cash mail law passport process fee non refund fast process request expedite service expedite request process workday receipt passport agency additional fee expedite service expedite service available united states desire special postage service register special delivery appropriate postage fee check two recent identical photograph photograph taken past six month good likeness photograph clear full view face taken light white white background photograph color black white image size correspond dimensions diagram page form photograph taken normal street attire showing headcovere sign statement submit headcovere worn daily religious medical reason dark glasses worn passport photograph doctor statement submit support wearing dark glasses medical reason mail form national passport center po box pittsburgh pa delivery postal service passport service lockbox attn passport supervise ross street room pittsburgh pa inquiry contact national passport information center tdd credit card user tdd notice applicant reside abroad united states citizen reside abroad submit form passport facility list applicant contact nearest united states embassy consulate procedure follow apply overseas notice applicant official diplomatic fee passport use application meet provisions list submit government military authorization fee passport application lieu passport fee consult sponsor agency instruction proper route procedure forwarding application complete passport release sponsor agency forwarding please detach retain instruction sheet record ds page application passport mail type print blue black ink white area use block letters numbers department state name middle mail passport street rfd po box city care applicable sex fold apt state zip code end issue date dp exp male female place birth city state city country month date birth social security number federal tax law notice reverse side height feet inch hair color eye color home telephone business telephone note most recent passport enclose passport number month issue date place issue occupation mandatory departure date travel plan mandatory country visit length stay mandatory permanent address list po box street rfd e e city state zip code emergency contact wish supply name address telephone number person travel contact case emergency name street city state relationship zip code e e telephone oath signature acquire united states citizenship perform acts list acts conditions reverse application form explanatory statement attach solemn swear affirm statement made application true photograph attach true likeness issue passport subsequent submit signature date write space submit two recent identical photo light plain background note applicant fold sign date write space application approval passport service use fee court order evidence name change marriage cert date place omb expire estimate burden minutes page ds accordance cfr person require respond collection information form display current valid omb control number page department state application passport mail federal tax law 26 usc internal revenue code require passport applicant name social security number issue social security number enter zero appropriate box department state information internal revenue service routine applicant fail require information subject penalty enforce irs question matter refer nearest irs office acts conditions mention acts conditions perform apply applicant portion apply line supplementary explanatory statement oath affirm applicant attach made part application acquire united states citizenship naturalize citizen foreign state taken oath made affirm formal declaration allegiance foreign state enter serve armed forces foreign state accept perform duty office post employment government foreign state politics subdivision made formal renunciation nationality united states diplomatic consular officer united states foreign state convict court court martial competent jurisdiction commit act treason attempt force overthrow bearing arms united states conspire overthrow put destroy force government united states warning false statement made knowingly willful passport application affidavit support document submit therewith punishable fine imprison provisions usc usc alteration mutilation passport issue pursuant application punishable fine imprison provisions usc use passport violate restriction contained passport regulation punishable fine imprison usc statement document submit subject verify privacy act paperwork reduction act statement authority information solicit form request pursuant provisions title united states code codify specifically usc regulation issue pursuant executive order august part title code federal regulation cfr noted 26 usc purpose primary purpose solicit information establish citizenship identity entitle issue passport information use connection issue travel document evidence citizenship furtherance secretary responsibility protection national abroad routine use information solicit form made available routine use government agency assist department state adjudicate passport application law enforce administration purpose disclose pursuant court order information made available foreign government agency fulfill passport control immigrate duty investigate prosecute violate law information made available private citizen warden designate embassy consulate failure information request form result denial united states passport related document service individual seek passport document service public report burden collection information estimate average minutes response time require searching existing data source gathering necessary data providing information require review final collection information collection display current valid omb number send comment accuracy estimate burden recommendation reduce department state rps dir washington dc ds page harare usembassy gov form ds pdf $ [PAD] [PAD] [PAD] [PAD] [PAD] [PAD] [PAD] [PAD] [PAD] [PAD] [PAD] [PAD] [PAD] [PAD] [PAD] [PAD] [PAD] [PAD] [PAD] [PAD] [PAD] [PAD] [PAD] [PAD] [PAD] [PAD] [PAD] [PAD] [PAD] [PAD] [PAD] [PAD] [PAD] [PAD] [PAD] [PAD] [PAD] [PAD] [PAD] [PAD] [PAD] [PAD] [PAD] [PAD] [PAD] [PAD] [PAD] [PAD] [PAD] [PAD] [PAD] [PAD] [PAD] [PAD] [PAD] [PAD] [PAD] [PAD] [PAD] [PAD] [PAD] [PAD] [PAD] [PAD] [PAD] [PAD] [PAD] [PAD] [PAD] [PAD] [PAD] [PAD] [PAD] [PAD] [PAD] [PAD] [PAD] [PAD] [PAD] [PAD] [PAD] [PAD] [PAD] [PAD] [PAD] [PAD] [PAD] [PAD] [PAD] [PAD] [PAD] [PAD] [PAD] [PAD] [PAD] [PAD] [PAD] [PAD] [PAD] [PAD] [PAD] [PAD] [PAD] [PAD] [PAD] [PAD] [PAD] [PAD] [PAD] [PAD] [PAD] [PAD] [PAD] [PAD] [PAD] [PAD] [PAD] [PAD] [PAD] [PAD] [PAD] [PAD] [PAD] [PAD] [PAD] [PAD] [PAD] [PAD] [PAD] [PAD] [PAD] [PAD] [PAD] [PAD] [PAD] [PAD] [PAD] [PAD] [PAD] [PAD] [PAD] [PAD] [PAD] [PAD] [PAD] [PAD] [PAD] [PAD] [PAD] [PAD] [PAD] [PAD] [PAD] [PAD] [PAD] [PAD] [PAD] [PAD] [PAD] [PAD] [PAD] [PAD] [PAD] [PAD] [PAD] [PAD] [PAD] [PAD] [PAD] [PAD] [PAD] [PAD] [PAD] [PAD] [PAD] [PAD] [PAD] [PAD] [PAD] [PAD] [PAD] [PAD] [PAD] [PAD] [PAD] [PAD] [PAD] [PAD] [PAD] [PAD] [PAD] [PAD] [PAD] [PAD] [PAD] [PAD] [PAD] [PAD] [PAD] [PAD] [PAD] [PAD] [PAD] [PAD] [PAD] [PAD] [PAD] [PAD] [PAD] [PAD] [PAD] [PAD] [PAD] [PAD] [PAD] [PAD] [PAD] [PAD] [PAD] [PAD] [PAD] [PAD] [PAD] [PAD] [PAD] [PAD] [PAD] [PAD] [PAD] [PAD] [PAD] [PAD] [PAD] [PAD] [PAD] [PAD] [PAD] [PAD] [PAD] [PAD] [PAD] [PAD] [PAD] [PAD] [PAD] [PAD] [PAD] [PAD] [PAD] [PAD] [PAD] [PAD] [PAD] [PAD] [PAD] [PAD] [PAD] [PAD] [PAD] [PAD] [PAD] [PAD] [PAD] [PAD] [PAD] [PAD] [PAD] [PAD] [PAD] [PAD] [PAD] [PAD] [PAD] [PAD] [PAD] [PAD] [PAD] [PAD] [PAD] [PAD] [PAD] [PAD] [PAD] [PAD] [PAD] [PAD] [PAD] [PAD] [PAD] [PAD] [PAD] [PAD] [PAD] [PAD] [PAD] [PAD] [PAD] [PAD] [PAD] [PAD] [PAD] [PAD] [PAD] [PAD] [PAD] [PAD] [PAD] [PAD] [PAD] [PAD] [PAD] [PAD] [PAD] [PAD] [PAD] [PAD] [PAD] [PAD] [PAD] [PAD] [PAD] [PAD] [PAD] [PAD] [PAD] [PAD] [PAD] [PAD] [PAD] [PAD] [PAD] [PAD] [PAD] [PAD] [PAD] [PAD] [PAD] [PAD] [PAD] [PAD] [PAD] [PAD] [PAD] [PAD] [PAD] [PAD] [PAD] [PAD] [PAD] [PAD] [PAD] [PAD] [PAD] [PAD] [PAD] [PAD] [PAD] [PAD] [PAD] [PAD] [PAD] [PAD] [PAD] [PAD] [PAD] [PAD] [PAD] [PAD] [PAD] [PAD] [PAD] [PAD] [PAD] [PAD] [PAD] [PAD] [PAD] [PAD] [PAD] [PAD] [PAD] [PAD] [PAD] [PAD] [PAD] [PAD] [PAD] [PAD] [PAD] [PAD] [PAD] [PAD] [PAD] [PAD] [PAD] [PAD] [PAD] [PAD] [PAD] [PAD] [PAD] [PAD] [PAD] [PAD] [PAD] [PAD] [PAD] [PAD] [PAD] [PAD] [PAD] [PAD] [PAD] [PAD] [PAD] [PAD] [PAD] [PAD] [PAD] [PAD] [PAD] [PAD] [PAD] [PAD] [PAD] [PAD] [PAD] [PAD] [PAD] [PAD] [PAD] [PAD] [PAD] [PAD] [PAD] [PAD] [PAD] [PAD] [PAD] [PAD] [PAD] [PAD] [PAD] [PAD] [PAD] [PAD] [PAD] [PAD] [PAD] [PAD] [PAD] [PAD] [PAD] [PAD] [PAD] [PAD] [PAD] [PAD] [PAD] [PAD] [PAD] [PAD] [PAD] [PAD] [PAD] [PAD] [PAD] [PAD] [PAD] [PAD] [PAD] [PAD] [PAD] [PAD] [PAD] [PAD] [PAD] [PAD] [PAD] [PAD] [PAD] [PAD] [PAD] [PAD] [PAD] [PAD] [PAD] [PAD] [PAD] [PAD] [PAD] [PAD] [PAD] [PAD] [PAD] [PAD] [PAD] [PAD] [PAD] [PAD] [PAD] [PAD] [PAD] [PAD] [PAD] [PAD] [PAD] [PAD] [PAD] [PAD] [PAD] [PAD] [PAD] [PAD] [PAD] [PAD] [PAD] [PAD] [PAD] [PAD] [PAD] [PAD] [PAD] [PAD] [PAD] [PAD] [PAD] [PAD] [PAD] [PAD] [PAD] [PAD] [PAD] [PAD] [PAD] [PAD] [PAD] [PAD] [PAD] [PAD] [PAD] [PAD] [PAD] [PAD] [PAD] [PAD] [PAD] [PAD] [PAD] [PAD] [PAD] [PAD] [PAD] [PAD] [PAD] [PAD] [PAD] [PAD] [PAD] [PAD] [PAD] [PAD] [PAD] [PAD] [PAD] [PAD] [PAD] [PAD] [PAD] [PAD] [PAD] [PAD] [PAD] [PAD] [PAD] [PAD] [PAD] [PAD] [PAD] [PAD] [PAD] [PAD] [PAD] [PAD] [PAD] [PAD] [PAD] [PAD] [PAD] [PAD] [PAD] [PAD] [PAD] [PAD] [PAD] [PAD] [PAD] [PAD] [PAD] [PAD] [PAD] [PAD] [PAD] [PAD] [PAD] [PAD] [PAD] [PAD] [PAD] [PAD] [PAD] [PAD] [PAD] [PAD] [PAD] [PAD] [PAD] [PAD] [PAD] [PAD] [PAD] [PAD] [PAD] [PAD] [PAD] [PAD] [PAD] [PAD] [PAD] [PAD] [PAD] [PAD] [PAD] [PAD] [PAD] [PAD] [PAD] [PAD] [PAD] [PAD] [PAD] [PAD] [PAD] [PAD] [PAD] [PAD] [PAD] [PAD] [PAD] [PAD] [PAD] [PAD] [PAD] [PAD] [PAD] [PAD] [PAD] [PAD] [PAD] [PAD] [PAD] [PAD] [PAD] [PAD] [PAD] [PAD] [PAD] [PAD] [PAD] [PAD] [PAD] [PAD] [PAD] [PAD] [PAD] [PAD] [PAD] [PAD] [PAD] [PAD] [PAD] [PAD] [PAD] [PAD] [PAD] [PAD] [PAD] [PAD] [PAD] [PAD] [PAD] [PAD] [PAD] [PAD] [PAD] [PAD] [PAD] [PAD] [PAD] [PAD] [PAD] [PAD] [PAD] [PAD] [PAD] [PAD] [PAD] [PAD] [PAD] [PAD] [PAD] [PAD] [PAD] [PAD] [PAD] [PAD] [PAD] [PAD] [PAD] [PAD] [PAD] [PAD] [PAD] [PAD] [PAD] [PAD] [PAD] [PAD] [PAD] [PAD] [PAD] [PAD] [PAD] [PAD] [PAD] [PAD] [PAD] [PAD] [PAD] [PAD] [PAD] [PAD] [PAD] [PAD] [PAD] [PAD] [PAD] [PAD] [PAD] [PAD] [PAD] [PAD] [PAD] [PAD] [PAD] [PAD] [PAD] [PAD] [PAD] [PAD] [PAD] [PAD] [PAD] [PAD] [PAD] [PAD] [PAD] [PAD] [PAD] [PAD] [PAD] [PAD] [PAD] [PAD] [PAD] [PAD] [PAD] [PAD] [PAD] [PAD] [PAD] [PAD] [PAD] [PAD] [PAD] [PAD] [PAD] [PAD] [PAD] [PAD] [PAD] [PAD] [PAD] [PAD] [PAD] [PAD] [PAD] [PAD] [PAD] [PAD] [PAD] [PAD] [PAD] [PAD] [PAD] [PAD] [PAD] [PAD] [PAD] [PAD] [PAD] [PAD] [PAD] [PAD] [PAD] [PAD] [PAD] [PAD] [PAD] [PAD] [PAD] [PAD] [PAD] [PAD] [PAD] [PAD] [PAD] [PAD] [PAD] [PAD] [PAD] [PAD] [PAD] [PAD] [PAD] [PAD] [PAD] [PAD] [PAD] [PAD] [PAD] [PAD] [PAD] [PAD] [PAD] [PAD] [PAD] [PAD] [PAD] [PAD] [PAD] [PAD] [PAD] [PAD] [PAD] [PAD] [PAD] [PAD] [PAD] [PAD] [PAD] [PAD] [PAD] [PAD] [PAD] [PAD] [PAD] [PAD] [PAD] [PAD] [PAD] [PAD] [PAD] [PAD] [PAD] [PAD] [PAD] [PAD] [PAD] [PAD] [PAD] [PAD] [PAD] [PAD] [PAD] [PAD] [PAD] [PAD] [PAD] [PAD] [PAD] [PAD] [PAD] [PAD] [PAD] [PAD] [PAD] [PAD] [PAD] [PAD] [PAD] [PAD] [PAD] [PAD] [PAD] [PAD] [PAD] [PAD] [PAD] [PAD] [PAD] [PAD] [PAD] [PAD] [PAD] [PAD] [PAD] [PAD] [PAD] [PAD] [PAD] [PAD] [PAD] [PAD] [PAD] [PAD] [PAD] [PAD] [PAD] [PAD] [PAD] [PAD] [PAD] [PAD] [PAD] [PAD] [PAD] [PAD] [PAD] [PAD] [PAD] [PAD] [PAD] [PAD] [PAD] [PAD] [PAD] [PAD] [PAD] [PAD] [PAD] [PAD]\n"
     ]
    },
    {
     "name": "stdout",
     "output_type": "stream",
     "text": [
      "passport information application $$ [PAD] [PAD] [PAD] [PAD] [PAD] [PAD] [PAD] [PAD] [PAD] [PAD] [PAD] [PAD] [PAD] [PAD] [PAD] [PAD]\n",
      "0 face taken light white white background photograph color black white image\n",
      "1 statement submit headcovere worn daily religious medical reason dark glasses worn\n",
      "2 home telephone business telephone note most recent passport enclose passport number\n",
      "3 issue pursuant executive order august part title code federal regulation cfr\n",
      "4 statement stop use form apply application form ds making personal appearance\n"
     ]
    }
   ],
   "source": [
    "X1, X1_len, X1_id, X2, X2_len, X2_id, Y, F = \\\n",
    "        pair_gen.get_batch(data1=loader.query_data, data2=loader.doc_data)\n",
    "X1, X1_len, X2, X2_len, Y, F = \\\n",
    "        to_device(X1, X1_len, X2, X2_len, Y, F, device=select_device)\n",
    "\n",
    "show_text(X2[0])\n",
    "\n",
    "X1, X2_new, X1_len, X2_len_new, X2_pos = select_net(X1, X2, X1_len, X2_len, X1_id, X2_id)\n",
    "\n",
    "show_text(X1[0])\n",
    "for i in range(5):\n",
    "    print(i, end=' ')\n",
    "    show_text(X2_new[0][i])"
   ]
  },
  {
   "cell_type": "code",
   "execution_count": 17,
   "metadata": {},
   "outputs": [
    {
     "name": "stdout",
     "output_type": "stream",
     "text": [
      "torch.Size([20])\n",
      "200\n",
      "200\n",
      "tensor([ 63.,  68., 106., 178.,  12., 130.,  15.,  97.,  99.,  78.,  15.,  97.,\n",
      "        161., 201.,  21., 163.,  97.,  41., 175.,  45.], device='cuda:0')\n",
      "tensor([ 19.,  20., 143., 144., 397.,  14.,  13.,   7.,  17.,   5.,  18.,  19.,\n",
      "         17.,  14.,  20.,   5.,  19.,  20., 143., 145.], device='cuda:0')\n"
     ]
    }
   ],
   "source": [
    "print(X2_pos[0].shape)\n",
    "print(len(X2_pos))\n",
    "print(len(X2))\n",
    "print(X2_pos[0])\n",
    "print(X2_pos[1])"
   ]
  },
  {
   "cell_type": "code",
   "execution_count": 18,
   "metadata": {},
   "outputs": [],
   "source": [
    "# X1 = X1[:1]\n",
    "# X1_len = X1_len[:1]\n",
    "# X2 = X2[:1]\n",
    "# X2_len = X2_len[:1]\n",
    "# X1_id = X1_id[:1]\n",
    "# X2_id = X2_id[:1]"
   ]
  },
  {
   "cell_type": "code",
   "execution_count": 19,
   "metadata": {},
   "outputs": [],
   "source": [
    "# show_text(X2[0])\n",
    "# X1, X2_new, X1_len, X2_len_new = select_net(X1, X2, X1_len, X2_len, X1_id, X2_id)\n",
    "# show_text(X1[0])\n",
    "# for i in range(5):\n",
    "#     print(i, end=' ')\n",
    "#     show_text(X2_new[0][i])"
   ]
  },
  {
   "cell_type": "code",
   "execution_count": 20,
   "metadata": {},
   "outputs": [
    {
     "name": "stdout",
     "output_type": "stream",
     "text": [
      "torch.Size([35, 1])\n",
      "torch.Size([2000])\n"
     ]
    }
   ],
   "source": [
    "print(X2_pos[i][:,None].shape)\n",
    "print(X2[i].shape)"
   ]
  },
  {
   "cell_type": "code",
   "execution_count": 21,
   "metadata": {
    "scrolled": true
   },
   "outputs": [
    {
     "name": "stdout",
     "output_type": "stream",
     "text": [
      "rank loss: 0.8759759068489075\n",
      "select loss: -50.06583023071289\n",
      "rank loss: 0.9484403729438782\n",
      "select loss: -42.33018493652344\n",
      "rank loss: 0.9103724360466003\n",
      "select loss: -45.94489288330078\n",
      "rank loss: 0.8995844125747681\n",
      "select loss: -25.045923233032227\n",
      "rank loss: 0.8307730555534363\n",
      "select loss: -80.60164642333984\n",
      "rank loss: 0.8919680118560791\n",
      "select loss: -16.089332580566406\n",
      "rank loss: 0.849761962890625\n",
      "select loss: -81.79977416992188\n",
      "rank loss: 0.9520921111106873\n",
      "select loss: -37.109676361083984\n",
      "rank loss: 0.8020379543304443\n",
      "select loss: -99.7043685913086\n",
      "rank loss: 0.9987389445304871\n",
      "select loss: -2.445683240890503\n",
      "rank loss: 0.8682011365890503\n",
      "select loss: -83.61199188232422\n",
      "rank loss: 0.9173089265823364\n",
      "select loss: -101.56730651855469\n",
      "rank loss: 1.0194984674453735\n",
      "select loss: -15.641357421875\n",
      "rank loss: 0.810495138168335\n",
      "select loss: -53.74839401245117\n",
      "rank loss: 0.8618379235267639\n",
      "select loss: -65.1640853881836\n",
      "rank loss: 0.9968340992927551\n",
      "select loss: -15.597787857055664\n",
      "rank loss: 0.8895730376243591\n",
      "select loss: -62.025203704833984\n",
      "rank loss: 0.8658419847488403\n",
      "select loss: -91.33708953857422\n",
      "rank loss: 0.9056768417358398\n",
      "select loss: -28.081186294555664\n",
      "rank loss: 0.7776918411254883\n",
      "select loss: -78.79292297363281\n",
      "rank loss: 0.9508857727050781\n",
      "select loss: -55.500831604003906\n",
      "rank loss: 0.8554354906082153\n",
      "select loss: -76.4212875366211\n",
      "rank loss: 0.8914923071861267\n",
      "select loss: -22.70888900756836\n",
      "rank loss: 0.8133921027183533\n",
      "select loss: -81.21836853027344\n",
      "rank loss: 0.9398804306983948\n",
      "select loss: -39.54633712768555\n",
      "rank loss: 0.9000080823898315\n",
      "select loss: -83.60382080078125\n",
      "rank loss: 0.8132290244102478\n",
      "select loss: -77.0195083618164\n",
      "rank loss: 0.9497271776199341\n",
      "select loss: -18.543275833129883\n",
      "rank loss: 0.7127406001091003\n",
      "select loss: -111.11854553222656\n",
      "rank loss: 0.7742396593093872\n",
      "select loss: -84.82488250732422\n",
      "rank loss: 0.9077575206756592\n",
      "select loss: -44.178688049316406\n",
      "rank loss: 0.9706889986991882\n",
      "select loss: -26.274938583374023\n",
      "rank loss: 0.9687731862068176\n",
      "select loss: -6.561598300933838\n",
      "rank loss: 0.889724850654602\n",
      "select loss: -57.98885726928711\n",
      "rank loss: 0.8136968612670898\n",
      "select loss: -88.36943054199219\n",
      "rank loss: 0.7347988486289978\n",
      "select loss: -109.91936492919922\n",
      "rank loss: 0.8364884853363037\n",
      "select loss: -61.56434631347656\n",
      "rank loss: 0.8452793955802917\n",
      "select loss: -47.762184143066406\n",
      "rank loss: 0.9532615542411804\n",
      "select loss: -5.97791862487793\n",
      "rank loss: 0.7302985787391663\n",
      "select loss: -126.07654571533203\n",
      "rank loss: 0.9646612405776978\n",
      "select loss: 2.397970199584961\n",
      "rank loss: 0.8688265085220337\n",
      "select loss: -112.91952514648438\n",
      "rank loss: 0.8022148013114929\n",
      "select loss: -73.51404571533203\n",
      "rank loss: 0.8307392001152039\n",
      "select loss: -79.51512145996094\n",
      "rank loss: 0.8182117938995361\n",
      "select loss: -60.30721664428711\n",
      "rank loss: 0.8586658835411072\n",
      "select loss: -65.115234375\n",
      "rank loss: 0.8594770431518555\n",
      "select loss: -78.73674774169922\n",
      "rank loss: 0.9094192385673523\n",
      "select loss: -31.645671844482422\n",
      "rank loss: 0.9381101727485657\n",
      "select loss: -27.538637161254883\n",
      "rank loss: 0.9421696066856384\n",
      "select loss: -48.43354415893555\n",
      "rank loss: 0.836730420589447\n",
      "select loss: -70.63224792480469\n",
      "rank loss: 0.855334997177124\n",
      "select loss: -59.138553619384766\n",
      "rank loss: 0.7312489151954651\n",
      "select loss: -147.50985717773438\n",
      "rank loss: 0.8335506916046143\n",
      "select loss: -41.85496520996094\n",
      "rank loss: 0.8631706237792969\n",
      "select loss: -86.02853393554688\n",
      "rank loss: 1.0175435543060303\n",
      "select loss: -2.42939829826355\n",
      "rank loss: 0.8892796039581299\n",
      "select loss: -85.39775085449219\n",
      "rank loss: 0.8541775345802307\n",
      "select loss: -68.13550567626953\n",
      "rank loss: 0.8659568428993225\n",
      "select loss: -75.8331527709961\n",
      "rank loss: 0.8844958543777466\n",
      "select loss: -58.539955139160156\n",
      "rank loss: 0.8681297302246094\n",
      "select loss: -65.12782287597656\n",
      "rank loss: 0.8121265769004822\n",
      "select loss: -91.4493179321289\n",
      "rank loss: 0.8655064702033997\n",
      "select loss: -73.53459930419922\n",
      "rank loss: 0.8784185647964478\n",
      "select loss: -73.48945617675781\n",
      "rank loss: 0.7931423783302307\n",
      "select loss: -105.10064697265625\n",
      "rank loss: 0.9222745895385742\n",
      "select loss: -74.06090545654297\n",
      "rank loss: 0.8290404081344604\n",
      "select loss: -74.6146469116211\n",
      "rank loss: 0.8463490009307861\n",
      "select loss: -96.74954223632812\n",
      "rank loss: 0.7699635028839111\n",
      "select loss: -86.0167007446289\n",
      "rank loss: 0.7319352626800537\n",
      "select loss: -94.48054504394531\n",
      "rank loss: 0.9118808507919312\n",
      "select loss: -38.252071380615234\n",
      "rank loss: 0.9495149254798889\n",
      "select loss: -16.764108657836914\n",
      "rank loss: 0.8053513169288635\n",
      "select loss: -65.03794860839844\n",
      "rank loss: 0.9941114783287048\n",
      "select loss: -2.4693236351013184\n",
      "rank loss: 0.8200875520706177\n",
      "select loss: -87.19198608398438\n",
      "rank loss: 0.9163362383842468\n",
      "select loss: -39.435699462890625\n",
      "rank loss: 0.8947978615760803\n",
      "select loss: -40.02287673950195\n",
      "rank loss: 0.7503883242607117\n",
      "select loss: -119.46757507324219\n",
      "rank loss: 0.8593270778656006\n",
      "select loss: -62.187374114990234\n",
      "rank loss: 0.8244363069534302\n",
      "select loss: -80.65729522705078\n",
      "rank loss: 0.9143701791763306\n",
      "select loss: -34.09220504760742\n",
      "rank loss: 0.8266999125480652\n",
      "select loss: -93.7257308959961\n",
      "rank loss: 0.79096919298172\n",
      "select loss: -83.0785903930664\n",
      "rank loss: 0.9059584140777588\n",
      "select loss: -90.82443237304688\n",
      "rank loss: 0.8601585030555725\n",
      "select loss: -75.90643310546875\n",
      "rank loss: 0.8922497630119324\n",
      "select loss: -94.46424102783203\n",
      "rank loss: 0.8265130519866943\n",
      "select loss: -86.03437805175781\n",
      "rank loss: 0.9455830454826355\n",
      "select loss: -35.262210845947266\n",
      "rank loss: 0.7929680943489075\n",
      "select loss: -95.55941772460938\n",
      "rank loss: 0.801767885684967\n",
      "select loss: -89.6534652709961\n",
      "rank loss: 0.8824092745780945\n",
      "select loss: -57.39008712768555\n",
      "rank loss: 0.9861913919448853\n",
      "select loss: -50.82957077026367\n",
      "rank loss: 0.9222837686538696\n",
      "select loss: -53.72624969482422\n",
      "rank loss: 1.0437637567520142\n",
      "select loss: -7.752193450927734\n",
      "rank loss: 0.9825770258903503\n",
      "select loss: 13.112497329711914\n",
      "rank loss: 0.8652830123901367\n",
      "select loss: -50.18606948852539\n",
      "rank loss: 0.9718829393386841\n",
      "select loss: -37.618961334228516\n",
      "rank loss: 0.8525243997573853\n",
      "select loss: -120.11705017089844\n",
      "rank loss: 0.8672221302986145\n",
      "select loss: -72.95773315429688\n",
      "rank loss: 0.8535960912704468\n",
      "select loss: -121.98225402832031\n",
      "rank loss: 1.0117073059082031\n",
      "select loss: -16.154930114746094\n",
      "rank loss: 0.9304275512695312\n",
      "select loss: -25.073945999145508\n",
      "rank loss: 0.8453061580657959\n",
      "select loss: -94.3724594116211\n",
      "rank loss: 0.9141481518745422\n",
      "select loss: -65.16300964355469\n",
      "rank loss: 0.8675199151039124\n",
      "select loss: -50.79222106933594\n",
      "rank loss: 0.7629943490028381\n",
      "select loss: -102.09848022460938\n",
      "rank loss: 0.8543941974639893\n",
      "select loss: -107.52937316894531\n",
      "rank loss: 0.7629143595695496\n",
      "select loss: -72.82711029052734\n",
      "rank loss: 0.9008850455284119\n",
      "select loss: -22.7058048248291\n",
      "rank loss: 0.8278722167015076\n",
      "select loss: -37.079769134521484\n",
      "rank loss: 0.8056399822235107\n",
      "select loss: -109.86872100830078\n",
      "rank loss: 0.8939335346221924\n",
      "select loss: -65.10948944091797\n",
      "rank loss: 0.8845661878585815\n",
      "select loss: -49.57763671875\n",
      "rank loss: 0.9379452466964722\n",
      "select loss: -56.7154541015625\n",
      "rank loss: 0.9062469005584717\n",
      "select loss: -53.237911224365234\n",
      "rank loss: 0.9294589757919312\n",
      "select loss: -52.566444396972656\n",
      "rank loss: 0.8862575888633728\n",
      "select loss: -44.85440444946289\n",
      "rank loss: 0.8487296104431152\n",
      "select loss: -64.02757263183594\n",
      "rank loss: 0.7742146849632263\n",
      "select loss: -75.29528045654297\n",
      "rank loss: 0.7100400328636169\n",
      "select loss: -106.39628601074219\n",
      "rank loss: 0.8702183365821838\n",
      "select loss: -71.16203308105469\n",
      "rank loss: 0.8203599452972412\n",
      "select loss: -71.73832702636719\n",
      "rank loss: 0.8990852236747742\n",
      "select loss: -65.74685668945312\n",
      "rank loss: 0.9370017647743225\n",
      "select loss: -56.74314498901367\n",
      "rank loss: 0.8560227751731873\n",
      "select loss: -46.603389739990234\n",
      "rank loss: 0.7884947061538696\n",
      "select loss: -78.25926971435547\n",
      "rank loss: 0.7674384713172913\n",
      "select loss: -92.01698303222656\n",
      "rank loss: 0.9416216611862183\n",
      "select loss: -37.0555419921875\n",
      "rank loss: 0.769867479801178\n",
      "select loss: -83.04817199707031\n",
      "rank loss: 0.8504589796066284\n",
      "select loss: -104.56423950195312\n",
      "rank loss: 0.7848585247993469\n",
      "select loss: -80.1607437133789\n",
      "rank loss: 0.6373944282531738\n",
      "select loss: -137.39344787597656\n",
      "rank loss: 0.7933869957923889\n"
     ]
    },
    {
     "name": "stdout",
     "output_type": "stream",
     "text": [
      "select loss: -78.97579956054688\n",
      "rank loss: 1.003970980644226\n",
      "select loss: -65.17428588867188\n",
      "rank loss: 0.9001356363296509\n",
      "select loss: -38.26739501953125\n",
      "rank loss: 0.7411861419677734\n",
      "select loss: -109.34696960449219\n",
      "rank loss: 0.7464630007743835\n",
      "select loss: -80.0713119506836\n",
      "rank loss: 0.756953775882721\n",
      "select loss: -93.17547607421875\n",
      "rank loss: 0.851022481918335\n",
      "select loss: -63.379817962646484\n",
      "rank loss: 0.7509588599205017\n",
      "select loss: -52.627601623535156\n",
      "rank loss: 0.7904291152954102\n",
      "select loss: -100.92131042480469\n",
      "rank loss: 0.830808699131012\n",
      "select loss: -74.06494903564453\n",
      "rank loss: 0.831898033618927\n",
      "select loss: -62.76027297973633\n",
      "rank loss: 0.9343308806419373\n",
      "select loss: -32.875247955322266\n",
      "rank loss: 0.8484179377555847\n",
      "select loss: -57.99215316772461\n",
      "rank loss: 0.8476517200469971\n",
      "select loss: -86.10028076171875\n",
      "rank loss: 0.8435848951339722\n",
      "select loss: -75.20043182373047\n",
      "rank loss: 0.6961243748664856\n",
      "select loss: -151.12979125976562\n",
      "rank loss: 0.8582682013511658\n",
      "select loss: -88.41730499267578\n",
      "rank loss: 0.9113804697990417\n",
      "select loss: -47.79844665527344\n",
      "rank loss: 0.782704770565033\n",
      "select loss: -105.78411865234375\n",
      "rank loss: 0.8061354756355286\n",
      "select loss: -103.99200439453125\n",
      "rank loss: 0.8399645686149597\n",
      "select loss: -60.9370231628418\n",
      "rank loss: 0.8520004153251648\n",
      "select loss: -78.91075134277344\n",
      "rank loss: 0.6941116452217102\n",
      "select loss: -145.80734252929688\n",
      "rank loss: 0.8281105756759644\n",
      "select loss: -55.67109298706055\n",
      "rank loss: 0.8165246248245239\n",
      "select loss: -56.7927131652832\n",
      "rank loss: 0.810096800327301\n",
      "select loss: -81.27471923828125\n",
      "rank loss: 0.9290003776550293\n",
      "select loss: -38.2886848449707\n",
      "rank loss: 0.7690719366073608\n",
      "select loss: -90.79171752929688\n",
      "rank loss: 0.9723193049430847\n",
      "select loss: -38.25902557373047\n",
      "rank loss: 0.8318146467208862\n",
      "select loss: -57.379878997802734\n",
      "rank loss: 0.8336764574050903\n",
      "select loss: -63.29960632324219\n",
      "rank loss: 0.8087836503982544\n",
      "select loss: -104.63490295410156\n",
      "rank loss: 0.8107948899269104\n",
      "select loss: -86.01200866699219\n",
      "rank loss: 0.8179847598075867\n",
      "select loss: -78.27850341796875\n",
      "rank loss: 0.9544357061386108\n",
      "select loss: -0.6084930300712585\n",
      "rank loss: 0.894608736038208\n",
      "select loss: -25.153993606567383\n",
      "rank loss: 0.8970704674720764\n",
      "select loss: -48.48116683959961\n",
      "rank loss: 0.8719794750213623\n",
      "select loss: -65.15019226074219\n",
      "rank loss: 0.81655353307724\n",
      "select loss: -85.4685287475586\n",
      "rank loss: 0.8272007703781128\n",
      "select loss: -62.184043884277344\n",
      "rank loss: 0.8157393336296082\n",
      "select loss: -96.80392456054688\n",
      "rank loss: 0.7929840087890625\n",
      "select loss: -81.34090423583984\n",
      "rank loss: 0.6966131329536438\n",
      "select loss: -121.84490203857422\n",
      "rank loss: 0.8950570225715637\n",
      "select loss: -26.890615463256836\n",
      "rank loss: 0.800595223903656\n",
      "select loss: -117.70520782470703\n",
      "rank loss: 0.8634896874427795\n",
      "select loss: -71.15552520751953\n",
      "rank loss: 0.7917579412460327\n",
      "select loss: -106.35287475585938\n",
      "rank loss: 0.7061247229576111\n",
      "select loss: -123.05415344238281\n",
      "rank loss: 0.7543548941612244\n",
      "select loss: -100.97551727294922\n",
      "rank loss: 0.860715925693512\n",
      "select loss: -51.99319839477539\n",
      "rank loss: 0.8065704107284546\n",
      "select loss: -94.43290710449219\n",
      "rank loss: 0.836241602897644\n",
      "select loss: -59.83729934692383\n",
      "rank loss: 0.7812098264694214\n",
      "select loss: -86.65261840820312\n",
      "rank loss: 0.7489665150642395\n",
      "select loss: -121.3582992553711\n",
      "rank loss: 0.7692791819572449\n",
      "select loss: -70.49436950683594\n",
      "rank loss: 0.8274344205856323\n",
      "select loss: -69.38733673095703\n",
      "rank loss: 0.8125746846199036\n",
      "select loss: -52.6071662902832\n",
      "rank loss: 0.7955330014228821\n",
      "select loss: -83.68757629394531\n",
      "rank loss: 0.8548402786254883\n",
      "select loss: -45.99762725830078\n",
      "rank loss: 0.7464855909347534\n",
      "select loss: -58.58222579956055\n",
      "rank loss: 0.7690890431404114\n",
      "select loss: -89.06051635742188\n",
      "rank loss: 0.8136971592903137\n",
      "select loss: -87.28030395507812\n",
      "rank loss: 0.7349531650543213\n",
      "select loss: -102.2058334350586\n",
      "rank loss: 0.8954948782920837\n",
      "select loss: -34.657901763916016\n",
      "rank loss: 0.8624981641769409\n",
      "select loss: -75.3279037475586\n",
      "rank loss: 0.8468503952026367\n",
      "select loss: -26.96407699584961\n",
      "rank loss: 0.8132483959197998\n",
      "select loss: -92.59960174560547\n",
      "rank loss: 0.8851042985916138\n",
      "select loss: -54.41069030761719\n",
      "Time Cost: 224.42875361442566 s\n"
     ]
    }
   ],
   "source": [
    "import time\n",
    "\n",
    "rank_loss_list = []\n",
    "select_loss_list = []\n",
    "\n",
    "start_t = time.time()\n",
    "for i in range(200):\n",
    "    # One Step Forward\n",
    "    X1, X1_len, X1_id, X2, X2_len, X2_id, Y, F = \\\n",
    "        pair_gen.get_batch(data1=loader.query_data, data2=loader.doc_data)\n",
    "    X1, X1_len, X2, X2_len, Y, F = \\\n",
    "        to_device(X1, X1_len, X2, X2_len, Y, F, device=select_device)\n",
    "    X1, X2, X1_len, X2_len, X2_pos = select_net(X1, X2, X1_len, X2_len, X1_id, X2_id)\n",
    "    X2, X2_len = utils.data_adaptor(X2, X2_len, select_net, rank_net, letor_config)\n",
    "    output = rank_net(X1, X2, X1_len, X2_len, X2_pos)\n",
    "    reward = rank_net.pair_reward(output, mode=0)\n",
    "    \n",
    "    # Update Rank Net\n",
    "    rank_loss = rank_net.pair_loss(output, Y)\n",
    "    print('rank loss:', rank_loss.item())\n",
    "    rank_loss_list.append(rank_loss.item())\n",
    "    if i % 1 == 0:\n",
    "        rank_optimizer.zero_grad()\n",
    "        rank_loss.backward()\n",
    "        rank_optimizer.step()\n",
    "    \n",
    "    # Update Select Net\n",
    "    select_loss = select_net.loss(reward)\n",
    "    print('select loss:', select_loss.item())\n",
    "    select_loss_list.append(select_loss.item())\n",
    "    select_optimizer.zero_grad()\n",
    "    select_loss.backward()\n",
    "    select_optimizer.step()\n",
    "    \n",
    "end_t = time.time()\n",
    "print('Time Cost: %s s' % (end_t-start_t))"
   ]
  },
  {
   "cell_type": "code",
   "execution_count": 22,
   "metadata": {},
   "outputs": [
    {
     "data": {
      "image/png": "[encoded data removed]",
      "text/plain": [
       "<Figure size 432x288 with 1 Axes>"
      ]
     },
     "metadata": {
      "needs_background": "light"
     },
     "output_type": "display_data"
    },
    {
     "data": {
      "image/png": "[encoded data removed]",
      "text/plain": [
       "<Figure size 432x288 with 1 Axes>"
      ]
     },
     "metadata": {
      "needs_background": "light"
     },
     "output_type": "display_data"
    }
   ],
   "source": [
    "import matplotlib.pyplot as plt \n",
    "%matplotlib inline\n",
    "\n",
    "plt.figure()\n",
    "plt.plot(select_loss_list)\n",
    "plt.show()\n",
    "\n",
    "plt.figure()\n",
    "plt.plot(rank_loss_list)\n",
    "plt.show()"
   ]
  },
  {
   "cell_type": "code",
   "execution_count": 23,
   "metadata": {},
   "outputs": [],
   "source": [
    "torch.save(select_net, \"qcentric.model\")\n",
    "torch.save(rank_net, \"deeprank.model\")"
   ]
  },
  {
   "cell_type": "code",
   "execution_count": 24,
   "metadata": {
    "scrolled": true
   },
   "outputs": [
    {
     "name": "stdout",
     "output_type": "stream",
     "text": [
      "[./data/letor/r5w/relation.test.fold1.txt]\n",
      "\tInstance size: 13652\n",
      "List Instance Count: 336\n",
      "[Test] 0.4083692824951091\n"
     ]
    }
   ],
   "source": [
    "select_net_e = torch.load(f='qcentric.model')\n",
    "rank_net_e = torch.load(f='deeprank.model')\n",
    "\n",
    "list_gen = ListGenerator(rel_file=Letor07Path+'/relation.test.fold%d.txt'%(letor_config['fold']),\n",
    "                         config=letor_config)\n",
    "map_v = 0.0\n",
    "map_c = 0.0\n",
    "\n",
    "with torch.no_grad():\n",
    "    for X1, X1_len, X1_id, X2, X2_len, X2_id, Y, F in \\\n",
    "        list_gen.get_batch(data1=loader.query_data, data2=loader.doc_data):\n",
    "        #print(X1.shape, X2.shape, Y.shape)\n",
    "        X1, X1_len, X2, X2_len, Y, F = to_device(X1, X1_len, X2, X2_len, Y, F, device=select_device)\n",
    "        X1, X2, X1_len, X2_len, X2_pos = select_net_e(X1, X2, X1_len, X2_len, X1_id, X2_id)\n",
    "        X2, X2_len = utils.data_adaptor(X2, X2_len, select_net, rank_net, letor_config)\n",
    "        #print(X1.shape, X2.shape, Y.shape)\n",
    "        pred = rank_net_e(X1, X2, X1_len, X2_len, X2_pos)\n",
    "        map_o = utils.eval_MAP(pred.tolist(), Y.tolist())\n",
    "        #print(pred.shape, Y.shape)\n",
    "        map_v += map_o\n",
    "        map_c += 1.0\n",
    "    map_v /= map_c\n",
    "\n",
    "print('[Test]', map_v)"
   ]
  },
  {
   "cell_type": "raw",
   "metadata": {},
   "source": [
    "Reward v0: 0.4359386539000405\n",
    "Reward v1: 0.42572616969349864\n",
    "Reward v2: 0.4245778777643799"
   ]
  },
  {
   "cell_type": "code",
   "execution_count": null,
   "metadata": {},
   "outputs": [],
   "source": []
  }
 ],
 "metadata": {
  "kernelspec": {
   "display_name": "nips",
   "language": "python",
   "name": "nips"
  },
  "language_info": {
   "codemirror_mode": {
    "name": "ipython",
    "version": 3
   },
   "file_extension": ".py",
   "mimetype": "text/x-python",
   "name": "python",
   "nbconvert_exporter": "python",
   "pygments_lexer": "ipython3",
   "version": "3.6.2"
  }
 },
 "nbformat": 4,
 "nbformat_minor": 2
}
