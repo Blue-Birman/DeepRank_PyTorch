{
 "cells": [
  {
   "cell_type": "code",
   "execution_count": 1,
   "metadata": {
    "ExecuteTime": {
     "end_time": "2019-04-03T07:07:12.923753Z",
     "start_time": "2019-04-03T07:07:12.912078Z"
    }
   },
   "outputs": [],
   "source": [
    "%load_ext autoreload\n",
    "%autoreload 2"
   ]
  },
  {
   "cell_type": "code",
   "execution_count": 2,
   "metadata": {
    "ExecuteTime": {
     "end_time": "2019-04-03T07:07:13.331364Z",
     "start_time": "2019-04-03T07:07:12.925484Z"
    },
    "scrolled": true
   },
   "outputs": [],
   "source": [
    "from __future__ import print_function\n",
    "import argparse\n",
    "import torch\n",
    "import torch.nn as nn\n",
    "import torch.nn.functional as F\n",
    "import torch.optim as optim\n",
    "from importlib import reload "
   ]
  },
  {
   "cell_type": "code",
   "execution_count": 3,
   "metadata": {
    "ExecuteTime": {
     "end_time": "2019-04-03T07:07:13.351635Z",
     "start_time": "2019-04-03T07:07:13.333504Z"
    }
   },
   "outputs": [],
   "source": [
    "from deeprank.dataset import DataLoader, PairGenerator, ListGenerator"
   ]
  },
  {
   "cell_type": "code",
   "execution_count": 4,
   "metadata": {
    "ExecuteTime": {
     "end_time": "2019-04-03T07:07:52.794229Z",
     "start_time": "2019-04-03T07:07:13.353804Z"
    }
   },
   "outputs": [
    {
     "name": "stdout",
     "output_type": "stream",
     "text": [
      "[./data/letor/r5w/word_dict.txt]\n",
      "\tWord dict size: 193367\n",
      "[./data/letor/r5w/qid_query.txt]\n",
      "\tData size: 1692\n",
      "[./data/letor/r5w/docid_doc.txt]\n",
      "\tData size: 65323\n",
      "[./data/letor/r5w/embed_wiki-pdc_d50_norm]\n",
      "\tEmbedding size: 109282\n",
      "Generate numpy embed: (193368, 50)\n"
     ]
    }
   ],
   "source": [
    "loader = DataLoader('./config/letor07_mp_fold1.model')"
   ]
  },
  {
   "cell_type": "code",
   "execution_count": 5,
   "metadata": {
    "ExecuteTime": {
     "end_time": "2019-04-03T07:07:52.808362Z",
     "start_time": "2019-04-03T07:07:52.797367Z"
    }
   },
   "outputs": [],
   "source": [
    "import json\n",
    "letor_config = json.loads(open('./config/letor07_mp_fold1.model').read())\n",
    "select_device = torch.device(\"cpu\")\n",
    "rank_device = torch.device(\"cuda\")"
   ]
  },
  {
   "cell_type": "code",
   "execution_count": 6,
   "metadata": {
    "ExecuteTime": {
     "end_time": "2019-04-03T07:07:54.214345Z",
     "start_time": "2019-04-03T07:07:52.810052Z"
    }
   },
   "outputs": [
    {
     "name": "stdout",
     "output_type": "stream",
     "text": [
      "[./data/letor/r5w/relation.train.fold1.txt]\n",
      "\tInstance size: 47828\n",
      "Pair Instance Count: 325439\n"
     ]
    }
   ],
   "source": [
    "Letor07Path = letor_config['data_dir']\n",
    "\n",
    "letor_config['fill_word'] = loader._PAD_\n",
    "letor_config['embedding'] = loader.embedding\n",
    "letor_config['feat_size'] = loader.feat_size\n",
    "letor_config['vocab_size'] = loader.embedding.shape[0]\n",
    "letor_config['embed_dim'] = loader.embedding.shape[1]\n",
    "letor_config['pad_value'] = loader._PAD_\n",
    "\n",
    "pair_gen = PairGenerator(rel_file=Letor07Path + '/relation.train.fold%d.txt'%(letor_config['fold']), \n",
    "                         config=letor_config)"
   ]
  },
  {
   "cell_type": "code",
   "execution_count": 7,
   "metadata": {
    "ExecuteTime": {
     "end_time": "2019-04-03T07:07:54.229657Z",
     "start_time": "2019-04-03T07:07:54.216094Z"
    }
   },
   "outputs": [],
   "source": [
    "from deeprank import select_module\n",
    "from deeprank import rank_module\n",
    "\n",
    "select_module = reload(select_module)\n",
    "rank_module = reload(rank_module)"
   ]
  },
  {
   "cell_type": "code",
   "execution_count": 8,
   "metadata": {
    "ExecuteTime": {
     "end_time": "2019-04-03T07:07:54.290090Z",
     "start_time": "2019-04-03T07:07:54.231911Z"
    }
   },
   "outputs": [],
   "source": [
    "# select_net = select_module.IdentityNet(config=letor_config)\n",
    "# select_net.train()\n",
    "# select_net = select_net.to(device)"
   ]
  },
  {
   "cell_type": "code",
   "execution_count": 9,
   "metadata": {
    "ExecuteTime": {
     "end_time": "2019-04-03T07:07:54.340457Z",
     "start_time": "2019-04-03T07:07:54.291966Z"
    }
   },
   "outputs": [],
   "source": [
    "select_net = select_module.QueryCentricNet(config=letor_config, out_device=rank_device)\n",
    "select_net.train()\n",
    "select_net = select_net.to(select_device)"
   ]
  },
  {
   "cell_type": "code",
   "execution_count": 10,
   "metadata": {
    "ExecuteTime": {
     "end_time": "2019-04-03T07:07:54.390611Z",
     "start_time": "2019-04-03T07:07:54.342173Z"
    }
   },
   "outputs": [],
   "source": [
    "# letor_config['simmat_channel'] = 1\n",
    "# letor_config['conv_params'] = [(8, 2, 10)]\n",
    "# letor_config['fc_params'] = [50]\n",
    "# letor_config['dpool_size'] = [3, 10]\n",
    "# letor_config['lr'] = 0.001\n",
    "# letor_config['finetune_embed'] = False\n",
    "# rank_net = rank_module.MatchPyramidNet(config=letor_config)\n",
    "# rank_net.embedding.weight.data.copy_(torch.from_numpy(loader.embedding))\n",
    "# rank_net.train()\n",
    "# optimizer = optim.Adam(rank_net.parameters(), lr=letor_config['lr'])"
   ]
  },
  {
   "cell_type": "code",
   "execution_count": 11,
   "metadata": {
    "ExecuteTime": {
     "end_time": "2019-04-03T07:07:57.494329Z",
     "start_time": "2019-04-03T07:07:54.392181Z"
    }
   },
   "outputs": [],
   "source": [
    "letor_config['simmat_channel'] = 1\n",
    "letor_config['conv_params'] = [(8, 3, 3)]\n",
    "letor_config['fc_params'] = [200]\n",
    "letor_config['dpool_size'] = [3, 10]\n",
    "letor_config['lr'] = 0.001\n",
    "letor_config['finetune_embed'] = False\n",
    "rank_net = rank_module.DeepRankNet(config=letor_config)\n",
    "rank_net = rank_net.to(rank_device)\n",
    "rank_net.embedding.weight.data.copy_(torch.from_numpy(loader.embedding))\n",
    "rank_net.train()\n",
    "optimizer = optim.Adam(rank_net.parameters(), lr=letor_config['lr'])"
   ]
  },
  {
   "cell_type": "code",
   "execution_count": 12,
   "metadata": {
    "ExecuteTime": {
     "end_time": "2019-04-03T07:07:57.507058Z",
     "start_time": "2019-04-03T07:07:57.496055Z"
    }
   },
   "outputs": [],
   "source": [
    "def prepare(*variables):\n",
    "    return (torch.from_numpy(variable).to(select_device) for variable in variables)"
   ]
  },
  {
   "cell_type": "raw",
   "metadata": {},
   "source": [
    "GPU v0: Time Cost: 93.18958330154419 s\n",
    "---\n",
    "CPU v0: Time Cost: 22.77282667160034 s\n",
    "CPU v1: Time Cost: 74.07408261299133 s\n",
    "CPU v2: Time Cost: 51.10329461097717 s"
   ]
  },
  {
   "cell_type": "raw",
   "metadata": {},
   "source": [
    "GPU Time Cost: 105.99338483810425 s\n",
    "CPU Time Cost: 28.412545680999756 s"
   ]
  },
  {
   "cell_type": "code",
   "execution_count": 21,
   "metadata": {
    "ExecuteTime": {
     "end_time": "2019-04-03T07:20:30.266642Z",
     "start_time": "2019-04-03T07:20:27.439226Z"
    },
    "scrolled": true
   },
   "outputs": [
    {
     "name": "stdout",
     "output_type": "stream",
     "text": [
      "torch.Size([200, 20]) torch.Size([200, 2000]) torch.Size([200]) torch.Size([200])\n",
      "torch.Size([20, 31]) [4, 6, 0, 7, 3, 0]\n",
      "torch.Size([20]) tensor([204., 259., 281., 295.,  19.,  34.,  52.,  91., 284., 414.,  18.,  33.,\n",
      "         51.,  90., 282., 413., 430.,  43.,  61.,  84.], device='cuda:0')\n"
     ]
    }
   ],
   "source": [
    "X1, X1_len, X1_id, X2, X2_len, X2_id, Y, F = pair_gen.get_batch(data1=loader.query_data, data2=loader.doc_data)\n",
    "X1, X1_len, X2, X2_len, Y, F = prepare(X1, X1_len, X2, X2_len, Y, F)\n",
    "print(X1.shape, X2.shape, X1_len.shape, X2_len.shape)\n",
    "X1, X2, X1_len, X2_len, X2_pos = select_net(X1, X2, X1_len, X2_len, X1_id, X2_id)\n",
    "print(X2[0].shape, X2_len[0])\n",
    "print(X2_pos[0].shape, X2_pos[0])\n",
    "# X2     - list of tensor, batch_size * tensor([total_snip * win_size])\n",
    "# X2_len - list of list,   dim0: batch_size, dim1: n_query, value: n_match"
   ]
  },
  {
   "cell_type": "code",
   "execution_count": 24,
   "metadata": {
    "ExecuteTime": {
     "end_time": "2019-04-03T07:35:44.591705Z",
     "start_time": "2019-04-03T07:35:44.399034Z"
    }
   },
   "outputs": [
    {
     "name": "stdout",
     "output_type": "stream",
     "text": [
      "torch.Size([59, 5, 1])\n"
     ]
    }
   ],
   "source": [
    "input_tensor = rank_net(X1, X2, X1_len, X2_len, X2_pos)\n",
    "print(input_tensor.shape)"
   ]
  },
  {
   "cell_type": "raw",
   "metadata": {},
   "source": [
    "GPU\n",
    "select_net: 8.9s\n",
    "rank_net: 63ms\n",
    "\n",
    "CPU\n",
    "select_net: 992ms\n",
    "rank_net: 5.84s\n",
    "\n",
    "Now\n",
    "selec_net: 3.44s (可能不准，此时有其他任务占用CPU)\n",
    "rank_net: 83ms"
   ]
  },
  {
   "cell_type": "code",
   "execution_count": null,
   "metadata": {
    "ExecuteTime": {
     "end_time": "2019-04-03T07:07:57.775878Z",
     "start_time": "2019-04-03T07:07:13.221Z"
    },
    "scrolled": true
   },
   "outputs": [],
   "source": [
    "import time\n",
    "start_t = time.time()\n",
    "for i in range(50):\n",
    "    X1, X1_len, X2, X2_len, Y, F = pair_gen.get_batch(data1=loader.query_data, data2=loader.doc_data)\n",
    "    X1, X1_len, X2, X2_len, Y, F = to_device(X1, X1_len, X2, X2_len, Y, F)\n",
    "    X1, X2, X1_len, X2_len = select_net(X1, X2, X1_len, X2_len)\n",
    "    output = rank_net(X1, X2, X1_len, X2_len)\n",
    "    loss = rank_net.pair_loss(output, Y)\n",
    "    print(loss.item())\n",
    "    optimizer.zero_grad()\n",
    "    loss.backward()\n",
    "    optimizer.step()\n",
    "end_t = time.time()\n",
    "print('Time Cost: %s s' % (end_t-start_t))"
   ]
  }
 ],
 "metadata": {
  "kernelspec": {
   "display_name": "Python 3",
   "language": "python",
   "name": "python3"
  },
  "language_info": {
   "codemirror_mode": {
    "name": "ipython",
    "version": 3
   },
   "file_extension": ".py",
   "mimetype": "text/x-python",
   "name": "python",
   "nbconvert_exporter": "python",
   "pygments_lexer": "ipython3",
   "version": "3.6.8"
  }
 },
 "nbformat": 4,
 "nbformat_minor": 2
}
