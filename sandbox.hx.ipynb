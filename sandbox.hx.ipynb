{
 "cells": [
  {
   "cell_type": "code",
   "execution_count": 1,
   "metadata": {},
   "outputs": [],
   "source": [
    "%load_ext autoreload\n",
    "%autoreload 2"
   ]
  },
  {
   "cell_type": "code",
   "execution_count": 2,
   "metadata": {
    "scrolled": true
   },
   "outputs": [],
   "source": [
    "from __future__ import print_function\n",
    "import argparse\n",
    "import torch\n",
    "import torch.nn as nn\n",
    "import torch.nn.functional as F\n",
    "import torch.optim as optim\n",
    "from importlib import reload "
   ]
  },
  {
   "cell_type": "code",
   "execution_count": 3,
   "metadata": {},
   "outputs": [],
   "source": [
    "from deeprank.dataset import DataLoader, PairGenerator, ListGenerator"
   ]
  },
  {
   "cell_type": "code",
   "execution_count": 4,
   "metadata": {},
   "outputs": [
    {
     "name": "stdout",
     "output_type": "stream",
     "text": [
      "[./data/letor/r5w/word_dict.txt]\n",
      "\tWord dict size: 193367\n",
      "[./data/letor/r5w/qid_query.txt]\n",
      "\tData size: 1692\n",
      "[./data/letor/r5w/docid_doc.txt]\n",
      "\tData size: 65323\n",
      "[./data/letor/r5w/embed_wiki-pdc_d50_norm]\n",
      "\tEmbedding size: 109282\n",
      "Generate numpy embed: (193368, 50)\n"
     ]
    }
   ],
   "source": [
    "loader = DataLoader('./config/letor07_mp_fold1.model')"
   ]
  },
  {
   "cell_type": "code",
   "execution_count": 5,
   "metadata": {},
   "outputs": [],
   "source": [
    "import json\n",
    "letor_config = json.loads(open('./config/letor07_mp_fold1.model').read())\n",
    "# device = torch.device(\"cuda\")\n",
    "device = torch.device(\"cpu\")"
   ]
  },
  {
   "cell_type": "code",
   "execution_count": 91,
   "metadata": {
    "ExecuteTime": {
     "end_time": "2019-04-01T03:12:41.236509Z",
     "start_time": "2019-04-01T03:12:41.088929Z"
    }
   },
   "outputs": [
    {
     "name": "stdout",
     "output_type": "stream",
     "text": [
      "[./data/letor/r5w/relation.train.fold1.txt]\n",
      "\tInstance size: 47828\n",
      "Pair Instance Count: 325439\n"
     ]
    }
   ],
   "source": [
    "Letor07Path = letor_config['data_dir']\n",
    "\n",
    "letor_config['fill_word'] = loader._PAD_\n",
    "letor_config['embedding'] = loader.embedding\n",
    "letor_config['feat_size'] = loader.feat_size\n",
    "letor_config['vocab_size'] = loader.embedding.shape[0]\n",
    "letor_config['embed_dim'] = loader.embedding.shape[1]\n",
    "\n",
    "pair_gen = PairGenerator(rel_file=Letor07Path + '/relation.train.fold%d.txt'%(letor_config['fold']), \n",
    "                         config=letor_config)"
   ]
  },
  {
   "cell_type": "code",
   "execution_count": 7,
   "metadata": {},
   "outputs": [],
   "source": [
    "from deeprank import select_module\n",
    "from deeprank import rank_module\n",
    "\n",
    "select_module = reload(select_module)\n",
    "rank_module = reload(rank_module)"
   ]
  },
  {
   "cell_type": "code",
   "execution_count": 8,
   "metadata": {},
   "outputs": [],
   "source": [
    "# select_net = select_module.IdentityNet(config=letor_config)\n",
    "# select_net.train()\n",
    "# select_net = select_net.to(device)"
   ]
  },
  {
   "cell_type": "code",
   "execution_count": 98,
   "metadata": {
    "ExecuteTime": {
     "end_time": "2019-04-01T08:22:42.675157Z",
     "start_time": "2019-04-01T08:22:42.643873Z"
    }
   },
   "outputs": [],
   "source": [
    "select_net = select_module.QueryCentricNet(config=letor_config)\n",
    "select_net.train()\n",
    "select_net = select_net.to(device)"
   ]
  },
  {
   "cell_type": "code",
   "execution_count": 57,
   "metadata": {},
   "outputs": [],
   "source": [
    "# letor_config['simmat_channel'] = 1\n",
    "# letor_config['conv_params'] = [(8, 2, 10)]\n",
    "# letor_config['fc_params'] = [50]\n",
    "# letor_config['dpool_size'] = [3, 10]\n",
    "# letor_config['lr'] = 0.001\n",
    "# letor_config['finetune_embed'] = False\n",
    "# rank_net = rank_module.MatchPyramidNet(config=letor_config)\n",
    "# rank_net.embedding.weight.data.copy_(torch.from_numpy(loader.embedding))\n",
    "# rank_net.train()\n",
    "# optimizer = optim.Adam(rank_net.parameters(), lr=letor_config['lr'])"
   ]
  },
  {
   "cell_type": "code",
   "execution_count": 58,
   "metadata": {},
   "outputs": [],
   "source": [
    "letor_config['simmat_channel'] = 1\n",
    "letor_config['conv_params'] = [(8, 3, 3)]\n",
    "letor_config['fc_params'] = [200]\n",
    "letor_config['dpool_size'] = [3, 10]\n",
    "letor_config['lr'] = 0.001\n",
    "letor_config['finetune_embed'] = False\n",
    "rank_net = rank_module.MatchPyramidNet(config=letor_config)\n",
    "rank_net = rank_net.to(device)\n",
    "rank_net.embedding.weight.data.copy_(torch.from_numpy(loader.embedding))\n",
    "rank_net.train()\n",
    "optimizer = optim.Adam(rank_net.parameters(), lr=letor_config['lr'])"
   ]
  },
  {
   "cell_type": "code",
   "execution_count": 59,
   "metadata": {},
   "outputs": [],
   "source": [
    "def to_device(*variables):\n",
    "    return (torch.from_numpy(variable).to(device) for variable in variables)"
   ]
  },
  {
   "cell_type": "code",
   "execution_count": 12,
   "metadata": {
    "scrolled": true
   },
   "outputs": [
    {
     "name": "stdout",
     "output_type": "stream",
     "text": [
      "0.9942600131034851\n",
      "0.9926823377609253\n",
      "0.9657775163650513\n",
      "1.0432099103927612\n",
      "0.8972198963165283\n",
      "0.9261519908905029\n",
      "1.0405492782592773\n",
      "1.0220781564712524\n",
      "1.013228178024292\n",
      "1.0005723237991333\n",
      "0.8980894684791565\n",
      "1.0080732107162476\n",
      "0.9084506034851074\n",
      "0.9161213636398315\n",
      "0.8033925294876099\n",
      "0.9157216548919678\n",
      "0.9668008089065552\n",
      "0.7468870282173157\n",
      "0.8263317346572876\n",
      "0.8480381369590759\n",
      "0.8733361959457397\n",
      "0.8737118244171143\n",
      "0.8586342930793762\n",
      "0.7700794339179993\n",
      "0.581363320350647\n",
      "0.6984531283378601\n",
      "0.9883303046226501\n",
      "0.7731813192367554\n",
      "0.5680857300758362\n",
      "1.338994026184082\n",
      "0.7105446457862854\n",
      "0.7083640098571777\n",
      "0.7716987133026123\n",
      "0.6268550157546997\n",
      "0.7208281755447388\n",
      "0.7603832483291626\n",
      "1.070916771888733\n",
      "0.5627222061157227\n",
      "0.6443978548049927\n",
      "0.8027175664901733\n",
      "0.5620582103729248\n",
      "0.456104576587677\n",
      "0.7922399640083313\n",
      "1.0084519386291504\n",
      "1.1783521175384521\n",
      "0.9524479508399963\n",
      "1.2779537439346313\n",
      "1.0437955856323242\n",
      "0.4700107276439667\n",
      "0.5086148381233215\n",
      "Time Cost: 102.60761904716492 s\n"
     ]
    }
   ],
   "source": [
    "import time\n",
    "start_t = time.time()\n",
    "for i in range(50):\n",
    "    X1, X1_len, X2, X2_len, Y, F = pair_gen.get_batch(data1=loader.query_data, data2=loader.doc_data)\n",
    "    X1, X1_len, X2, X2_len, Y, F = to_device(X1, X1_len, X2, X2_len, Y, F)\n",
    "    X1, X2, X1_len, X2_len = select_net(X1, X2, X1_len, X2_len)\n",
    "    output = rank_net(X1, X2, X1_len, X2_len)\n",
    "    loss = rank_net.pair_loss(output, Y)\n",
    "    print(loss.item())\n",
    "    optimizer.zero_grad()\n",
    "    loss.backward()\n",
    "    optimizer.step()\n",
    "end_t = time.time()\n",
    "print('Time Cost: %s s' % (end_t-start_t))"
   ]
  },
  {
   "cell_type": "raw",
   "metadata": {},
   "source": [
    "GPU v0: Time Cost: 93.18958330154419 s\n",
    "---\n",
    "CPU v0: Time Cost: 22.77282667160034 s\n",
    "CPU v1: Time Cost: 74.07408261299133 s\n",
    "CPU v2: Time Cost: 51.10329461097717 s"
   ]
  },
  {
   "cell_type": "raw",
   "metadata": {},
   "source": [
    "GPU Time Cost: 105.99338483810425 s\n",
    "CPU Time Cost: 28.412545680999756 s"
   ]
  },
  {
   "cell_type": "code",
   "execution_count": 13,
   "metadata": {
    "scrolled": true
   },
   "outputs": [
    {
     "data": {
      "text/plain": [
       "MatchPyramidNet(\n",
       "  (embedding): Embedding(193368, 50, padding_idx=0)\n",
       "  (conv_sequential): Sequential(\n",
       "    (0): Conv2d(1, 8, kernel_size=[3, 3], stride=(1, 1), padding=(1, 1))\n",
       "  )\n",
       "  (dpool_layer): AdaptiveMaxPool2d(output_size=[3, 10])\n",
       "  (fc_sequential): Sequential(\n",
       "    (0): Linear(in_features=240, out_features=200, bias=True)\n",
       "  )\n",
       "  (out_layer): Linear(in_features=200, out_features=1, bias=True)\n",
       ")"
      ]
     },
     "execution_count": 13,
     "metadata": {},
     "output_type": "execute_result"
    }
   ],
   "source": [
    "rank_net"
   ]
  },
  {
   "cell_type": "code",
   "execution_count": 110,
   "metadata": {
    "ExecuteTime": {
     "end_time": "2019-04-01T08:35:00.811322Z",
     "start_time": "2019-04-01T08:34:59.697999Z"
    },
    "scrolled": false
   },
   "outputs": [
    {
     "name": "stdout",
     "output_type": "stream",
     "text": [
      "torch.Size([128, 20]) torch.Size([128, 500]) torch.Size([128]) torch.Size([128])\n",
      "torch.Size([54, 31]) [20, 20, 14, 0]\n"
     ]
    }
   ],
   "source": [
    "X1, X1_len, X1_id, X2, X2_len, X2_id, Y, F = pair_gen.get_batch(data1=loader.query_data, data2=loader.doc_data)\n",
    "X1, X1_len, X2, X2_len, Y, F = to_device(X1, X1_len, X2, X2_len, Y, F)\n",
    "print(X1.shape, X2.shape, X1_len.shape, X2_len.shape)\n",
    "X1, X2, X1_len, X2_len = select_net(X1, X2, X1_len, X2_len, X1_id, X2_id)\n",
    "print(X2[0].shape, X2_len[0])\n",
    "# X2     - list of tensor, batch_size * tensor([total_snip * win_size])\n",
    "# X2_len - list of list,   dim0: batch_size, dim1: n_query, value: n_match"
   ]
  },
  {
   "cell_type": "code",
   "execution_count": 111,
   "metadata": {
    "ExecuteTime": {
     "end_time": "2019-04-01T09:46:37.130098Z",
     "start_time": "2019-04-01T09:46:37.108350Z"
    }
   },
   "outputs": [
    {
     "data": {
      "text/plain": [
       "117"
      ]
     },
     "execution_count": 111,
     "metadata": {},
     "output_type": "execute_result"
    }
   ],
   "source": [
    "len(X2)"
   ]
  },
  {
   "cell_type": "code",
   "execution_count": null,
   "metadata": {},
   "outputs": [],
   "source": []
  }
 ],
 "metadata": {
  "kernelspec": {
   "display_name": "Python 3",
   "language": "python",
   "name": "python3"
  },
  "language_info": {
   "codemirror_mode": {
    "name": "ipython",
    "version": 3
   },
   "file_extension": ".py",
   "mimetype": "text/x-python",
   "name": "python",
   "nbconvert_exporter": "python",
   "pygments_lexer": "ipython3",
   "version": "3.6.8"
  }
 },
 "nbformat": 4,
 "nbformat_minor": 2
}
