{
 "cells": [
  {
   "cell_type": "code",
   "execution_count": 1,
   "metadata": {},
   "outputs": [],
   "source": [
    "%load_ext autoreload\n",
    "%autoreload 2"
   ]
  },
  {
   "cell_type": "code",
   "execution_count": 2,
   "metadata": {
    "scrolled": true
   },
   "outputs": [],
   "source": [
    "from __future__ import print_function\n",
    "import argparse\n",
    "import torch\n",
    "import torch.nn as nn\n",
    "import torch.nn.functional as F\n",
    "import torch.optim as optim\n",
    "from importlib import reload "
   ]
  },
  {
   "cell_type": "code",
   "execution_count": 3,
   "metadata": {},
   "outputs": [],
   "source": [
    "from deeprank.dataset import DataLoader, PairGenerator, ListGenerator\n",
    "from deeprank import utils"
   ]
  },
  {
   "cell_type": "code",
   "execution_count": 4,
   "metadata": {},
   "outputs": [
    {
     "data": {
      "text/plain": [
       "<torch._C.Generator at 0x7f2c840dbaf0>"
      ]
     },
     "execution_count": 4,
     "metadata": {},
     "output_type": "execute_result"
    }
   ],
   "source": [
    "seed = 1234\n",
    "torch.manual_seed(seed)"
   ]
  },
  {
   "cell_type": "code",
   "execution_count": 5,
   "metadata": {},
   "outputs": [
    {
     "name": "stdout",
     "output_type": "stream",
     "text": [
      "[./data/letor/r5w/word_dict.txt]\n",
      "\tWord dict size: 193367\n",
      "[./data/letor/r5w/qid_query.txt]\n",
      "\tData size: 1692\n",
      "[./data/letor/r5w/docid_doc.txt]\n",
      "\tData size: 65323\n",
      "[./data/letor/r5w/embed_wiki-pdc_d50_norm]\n",
      "\tEmbedding size: 109282\n",
      "Generate numpy embed: (193368, 50)\n"
     ]
    }
   ],
   "source": [
    "loader = DataLoader('./config/letor07_mp_fold1.model')"
   ]
  },
  {
   "cell_type": "code",
   "execution_count": 6,
   "metadata": {},
   "outputs": [],
   "source": [
    "import json\n",
    "letor_config = json.loads(open('./config/letor07_mp_fold1.model').read())\n",
    "#device = torch.device(\"cuda\")\n",
    "device = torch.device(\"cpu\")"
   ]
  },
  {
   "cell_type": "code",
   "execution_count": 7,
   "metadata": {},
   "outputs": [
    {
     "name": "stdout",
     "output_type": "stream",
     "text": [
      "[./data/letor/r5w/relation.train.fold1.txt]\n",
      "\tInstance size: 47828\n",
      "Pair Instance Count: 325439\n"
     ]
    }
   ],
   "source": [
    "Letor07Path = letor_config['data_dir']\n",
    "\n",
    "letor_config['fill_word'] = loader._PAD_\n",
    "letor_config['embedding'] = loader.embedding\n",
    "letor_config['feat_size'] = loader.feat_size\n",
    "letor_config['vocab_size'] = loader.embedding.shape[0]\n",
    "letor_config['embed_dim'] = loader.embedding.shape[1]\n",
    "letor_config['pad_value'] = loader._PAD_\n",
    "\n",
    "pair_gen = PairGenerator(rel_file=Letor07Path + '/relation.train.fold%d.txt'%(letor_config['fold']), \n",
    "                         config=letor_config)"
   ]
  },
  {
   "cell_type": "code",
   "execution_count": 8,
   "metadata": {},
   "outputs": [],
   "source": [
    "from deeprank import select_module\n",
    "from deeprank import rank_module"
   ]
  },
  {
   "cell_type": "code",
   "execution_count": 9,
   "metadata": {},
   "outputs": [],
   "source": [
    "select_net = select_module.IdentityNet(config=letor_config)\n",
    "select_net.train()\n",
    "select_net = select_net.to(device)"
   ]
  },
  {
   "cell_type": "code",
   "execution_count": 10,
   "metadata": {},
   "outputs": [],
   "source": [
    "letor_config['q_limit'] = 20\n",
    "letor_config['d_limit'] = 500\n",
    "letor_config['max_match'] = 5\n",
    "letor_config['win_size'] = 5\n",
    "select_net = select_module.QueryCentricNet(config=letor_config)\n",
    "select_net.train()\n",
    "select_net = select_net.to(device)"
   ]
  },
  {
   "cell_type": "code",
   "execution_count": 11,
   "metadata": {},
   "outputs": [],
   "source": [
    "# letor_config['simmat_channel'] = 1\n",
    "# letor_config['conv_params'] = [(8, 2, 10)]\n",
    "# letor_config['fc_params'] = [50]\n",
    "# letor_config['dpool_size'] = [3, 10]\n",
    "# letor_config['lr'] = 0.001\n",
    "# letor_config['finetune_embed'] = False\n",
    "# rank_net = rank_module.MatchPyramidNet(config=letor_config)\n",
    "# rank_net.embedding.weight.data.copy_(torch.from_numpy(loader.embedding))\n",
    "# rank_net.train()\n",
    "# optimizer = optim.Adam(rank_net.parameters(), lr=letor_config['lr'])"
   ]
  },
  {
   "cell_type": "code",
   "execution_count": 12,
   "metadata": {},
   "outputs": [],
   "source": [
    "letor_config['simmat_channel'] = 1\n",
    "letor_config['conv_params'] = [(8, 3, 3)]\n",
    "letor_config['fc_params'] = [200]\n",
    "letor_config['dpool_size'] = [3, 10]\n",
    "letor_config['lr'] = 0.001\n",
    "letor_config['finetune_embed'] = False\n",
    "rank_net = rank_module.MatchPyramidNet(config=letor_config)\n",
    "rank_net = rank_net.to(device)\n",
    "rank_net.embedding.weight.data.copy_(torch.from_numpy(loader.embedding))\n",
    "rank_net.train()\n",
    "optimizer = optim.Adam(rank_net.parameters(), lr=letor_config['lr'])"
   ]
  },
  {
   "cell_type": "code",
   "execution_count": 13,
   "metadata": {},
   "outputs": [],
   "source": [
    "def to_device(*variables):\n",
    "    return (torch.from_numpy(variable).to(device) for variable in variables)"
   ]
  },
  {
   "cell_type": "code",
   "execution_count": 14,
   "metadata": {
    "scrolled": false
   },
   "outputs": [
    {
     "name": "stdout",
     "output_type": "stream",
     "text": [
      "1.0005669593811035\n",
      "0.9666146636009216\n",
      "0.9545133113861084\n",
      "0.9290570020675659\n",
      "0.9250833988189697\n",
      "0.9516744017601013\n",
      "0.9926365613937378\n",
      "0.9482710361480713\n",
      "0.8718242645263672\n",
      "0.8936516046524048\n",
      "0.8728057146072388\n",
      "0.8509190082550049\n",
      "0.9060134291648865\n",
      "0.90357905626297\n",
      "0.8386606574058533\n",
      "0.9735718965530396\n",
      "0.8126947283744812\n",
      "0.8493989706039429\n",
      "0.8504531383514404\n",
      "0.8859429359436035\n",
      "0.8048561215400696\n",
      "0.9653592705726624\n",
      "1.0039255619049072\n",
      "0.7623535394668579\n",
      "0.8342338800430298\n",
      "0.9242572784423828\n",
      "0.8864844441413879\n",
      "0.8077096939086914\n",
      "0.7404946088790894\n",
      "1.0208207368850708\n",
      "0.9004018306732178\n",
      "0.822470486164093\n",
      "0.9969710111618042\n",
      "0.8135121464729309\n",
      "0.87203049659729\n",
      "0.8742700815200806\n",
      "0.7792972326278687\n",
      "0.8595035076141357\n",
      "0.7425932288169861\n",
      "0.7918533682823181\n",
      "0.8069121837615967\n",
      "0.7917323112487793\n",
      "0.689857006072998\n",
      "0.6483471989631653\n",
      "0.9997082352638245\n",
      "0.9095818400382996\n",
      "0.8643707036972046\n",
      "0.969832181930542\n",
      "0.9153090119361877\n",
      "0.9198892116546631\n",
      "0.8066182136535645\n",
      "0.8728025555610657\n",
      "0.7627391219139099\n",
      "0.764860212802887\n",
      "0.6770406365394592\n",
      "0.855842113494873\n",
      "0.8940643668174744\n",
      "0.771583616733551\n",
      "0.9160504341125488\n",
      "0.8139620423316956\n",
      "0.7872863411903381\n",
      "0.771354079246521\n",
      "0.7185247540473938\n",
      "0.9590058326721191\n",
      "0.7630490064620972\n",
      "0.8134660124778748\n",
      "0.848973274230957\n",
      "0.8442270755767822\n",
      "0.8029309511184692\n",
      "0.7913655042648315\n",
      "0.7310969233512878\n",
      "0.7842951416969299\n",
      "0.771663248538971\n",
      "0.8421987295150757\n",
      "0.8074737191200256\n",
      "0.9758462309837341\n",
      "0.8165383338928223\n",
      "0.9162008166313171\n",
      "0.702243447303772\n",
      "0.8250645995140076\n",
      "0.7566732168197632\n",
      "0.6756197214126587\n",
      "0.7043288946151733\n",
      "0.8375121355056763\n",
      "0.7932350039482117\n",
      "0.7121105194091797\n",
      "0.6926409006118774\n",
      "0.7981049418449402\n",
      "0.8407682180404663\n",
      "0.8388630151748657\n",
      "0.8316617608070374\n",
      "0.6435544490814209\n",
      "0.7790478467941284\n",
      "0.7850614190101624\n",
      "0.7436312437057495\n",
      "0.745674192905426\n",
      "0.7905323505401611\n",
      "0.6598867177963257\n",
      "0.9518860578536987\n",
      "0.7542502880096436\n",
      "0.6794055700302124\n",
      "0.889905571937561\n",
      "0.7830243110656738\n",
      "0.6374841928482056\n",
      "0.7124698162078857\n",
      "0.7495605945587158\n",
      "0.7813949584960938\n",
      "0.7427700161933899\n",
      "0.9115456342697144\n",
      "0.7732676267623901\n",
      "0.665775716304779\n",
      "0.9462604522705078\n",
      "0.702643096446991\n",
      "0.7119868397712708\n",
      "0.8694104552268982\n",
      "0.823319673538208\n",
      "0.9132923483848572\n",
      "0.8323177099227905\n",
      "0.8401715159416199\n",
      "0.7793008089065552\n",
      "0.7669591903686523\n",
      "0.7734135985374451\n",
      "0.977853000164032\n",
      "0.6818369030952454\n",
      "0.6592037677764893\n",
      "0.8942018747329712\n",
      "0.7280064821243286\n",
      "0.6171225309371948\n",
      "0.8392860889434814\n",
      "0.7834004163742065\n",
      "0.7358800768852234\n",
      "0.6777849793434143\n",
      "0.6686442494392395\n",
      "0.6527142524719238\n",
      "0.5872418880462646\n",
      "0.851706862449646\n",
      "0.7462887763977051\n",
      "0.8537999987602234\n",
      "0.7721333503723145\n",
      "0.8649452924728394\n",
      "0.727333128452301\n",
      "0.8469690084457397\n",
      "0.8916633725166321\n",
      "0.8439071178436279\n",
      "0.8404432535171509\n",
      "0.8424472808837891\n",
      "0.822938084602356\n",
      "0.7881906628608704\n",
      "0.9145417213439941\n",
      "0.8256582617759705\n",
      "Time Cost: 157.9307656288147 s\n"
     ]
    }
   ],
   "source": [
    "import time\n",
    "start_t = time.time()\n",
    "for i in range(150):\n",
    "    X1, X1_len, X1_id, X2, X2_len, X2_id, Y, F = \\\n",
    "        pair_gen.get_batch(data1=loader.query_data, data2=loader.doc_data)\n",
    "    X1, X1_len, X2, X2_len, Y, F = \\\n",
    "        to_device(X1, X1_len, X2, X2_len, Y, F)\n",
    "    X1, X2, X1_len, X2_len = select_net(X1, X2, X1_len, X2_len, X1_id, X2_id)\n",
    "    X2, X2_len = utils.data_adaptor(X2, X2_len, select_net, rank_net, letor_config)\n",
    "    output = rank_net(X1, X2, X1_len, X2_len, 0)\n",
    "    loss = rank_net.pair_loss(output, Y)\n",
    "    print(loss.item())\n",
    "    optimizer.zero_grad()\n",
    "    loss.backward()\n",
    "    optimizer.step()\n",
    "end_t = time.time()\n",
    "print('Time Cost: %s s' % (end_t-start_t))"
   ]
  },
  {
   "cell_type": "code",
   "execution_count": 15,
   "metadata": {},
   "outputs": [],
   "source": [
    "torch.save(select_net.state_dict(), \"identity.ckpt\")\n",
    "torch.save(rank_net.state_dict(), \"matchpyramid.ckpt\")"
   ]
  },
  {
   "cell_type": "code",
   "execution_count": 16,
   "metadata": {},
   "outputs": [],
   "source": [
    "torch.save(select_net, \"identity.model\")\n",
    "torch.save(rank_net, \"matchpyramid.model\")"
   ]
  },
  {
   "cell_type": "raw",
   "metadata": {},
   "source": [
    "GPU v0: Time Cost: 93.18958330154419 s\n",
    "GPU v1: Time Cost: 70.9958758354187 s\n",
    "---\n",
    "CPU v0: Time Cost: 22.77282667160034 s\n",
    "CPU v0 v1: Time Cost: 34.77551507949829 s\n",
    "CPU v1: Time Cost: 74.07408261299133 s\n",
    "CPU v2: Time Cost: 51.10329461097717 s"
   ]
  },
  {
   "cell_type": "raw",
   "metadata": {},
   "source": [
    "GPU Time Cost: 105.99338483810425 s\n",
    "CPU Time Cost: 28.412545680999756 s"
   ]
  },
  {
   "cell_type": "code",
   "execution_count": 17,
   "metadata": {},
   "outputs": [
    {
     "data": {
      "text/plain": [
       "MatchPyramidNet(\n",
       "  (embedding): Embedding(193368, 50, padding_idx=193367)\n",
       "  (conv_sequential): Sequential(\n",
       "    (0): Conv2d(1, 8, kernel_size=[3, 3], stride=(1, 1), padding=(1, 1))\n",
       "  )\n",
       "  (dpool_layer): AdaptiveMaxPool2d(output_size=[3, 10])\n",
       "  (fc_sequential): Sequential(\n",
       "    (0): Linear(in_features=240, out_features=200, bias=True)\n",
       "  )\n",
       "  (out_layer): Linear(in_features=200, out_features=1, bias=True)\n",
       ")"
      ]
     },
     "execution_count": 17,
     "metadata": {},
     "output_type": "execute_result"
    }
   ],
   "source": [
    "rank_net"
   ]
  },
  {
   "cell_type": "code",
   "execution_count": 18,
   "metadata": {},
   "outputs": [
    {
     "name": "stdout",
     "output_type": "stream",
     "text": [
      "[./data/letor/r5w/relation.test.fold1.txt]\n",
      "\tInstance size: 13652\n",
      "List Instance Count: 336\n",
      "[Test] 0.40943836617689755\n"
     ]
    }
   ],
   "source": [
    "select_net_e = torch.load(f='identity.model')\n",
    "rank_net_e = torch.load(f='matchpyramid.model')\n",
    "\n",
    "list_gen = ListGenerator(rel_file=Letor07Path+'/relation.test.fold%d.txt'%(letor_config['fold']),\n",
    "                         config=letor_config)\n",
    "map_v = 0.0\n",
    "map_c = 0.0\n",
    "\n",
    "with torch.no_grad():\n",
    "    for X1, X1_len, X1_id, X2, X2_len, X2_id, Y, F in \\\n",
    "        list_gen.get_batch(data1=loader.query_data, data2=loader.doc_data):\n",
    "        #print(X1.shape, X2.shape, Y.shape)\n",
    "        X1, X1_len, X2, X2_len, Y, F = to_device(X1, X1_len, X2, X2_len, Y, F)\n",
    "        X1, X2, X1_len, X2_len = select_net_e(X1, X2, X1_len, X2_len, X1_id, X2_id)\n",
    "        X2, X2_len = utils.data_adaptor(X2, X2_len, select_net, rank_net, letor_config)\n",
    "        #print(X1.shape, X2.shape, Y.shape)\n",
    "        pred = rank_net_e(X1, X2, X1_len, X2_len, 0)\n",
    "        map_o = utils.eval_MAP(pred.tolist(), Y.tolist())\n",
    "        #print(pred.shape, Y.shape)\n",
    "        map_v += map_o\n",
    "        map_c += 1.0\n",
    "    map_v /= map_c\n",
    "\n",
    "print('[Test]', map_v)"
   ]
  },
  {
   "cell_type": "code",
   "execution_count": null,
   "metadata": {},
   "outputs": [],
   "source": []
  }
 ],
 "metadata": {
  "kernelspec": {
   "display_name": "nips",
   "language": "python",
   "name": "nips"
  },
  "language_info": {
   "codemirror_mode": {
    "name": "ipython",
    "version": 3
   },
   "file_extension": ".py",
   "mimetype": "text/x-python",
   "name": "python",
   "nbconvert_exporter": "python",
   "pygments_lexer": "ipython3",
   "version": "3.6.2"
  }
 },
 "nbformat": 4,
 "nbformat_minor": 2
}
