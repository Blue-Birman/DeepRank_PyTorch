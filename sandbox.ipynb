{
 "cells": [
  {
   "cell_type": "code",
   "execution_count": 1,
   "metadata": {},
   "outputs": [],
   "source": [
    "%load_ext autoreload\n",
    "%autoreload 2"
   ]
  },
  {
   "cell_type": "code",
   "execution_count": 2,
   "metadata": {
    "scrolled": true
   },
   "outputs": [],
   "source": [
    "from __future__ import print_function\n",
    "import argparse\n",
    "import torch\n",
    "import torch.nn as nn\n",
    "import torch.nn.functional as F\n",
    "import torch.optim as optim\n",
    "from importlib import reload "
   ]
  },
  {
   "cell_type": "code",
   "execution_count": 3,
   "metadata": {},
   "outputs": [],
   "source": [
    "from deeprank.dataset import DataLoader, PairGenerator, ListGenerator\n",
    "from deeprank import utils"
   ]
  },
  {
   "cell_type": "code",
   "execution_count": 4,
   "metadata": {},
   "outputs": [
    {
     "data": {
      "text/plain": [
       "<torch._C.Generator at 0x7f1d081a5b30>"
      ]
     },
     "execution_count": 4,
     "metadata": {},
     "output_type": "execute_result"
    }
   ],
   "source": [
    "seed = 1234\n",
    "torch.manual_seed(seed)"
   ]
  },
  {
   "cell_type": "code",
   "execution_count": 5,
   "metadata": {},
   "outputs": [
    {
     "name": "stdout",
     "output_type": "stream",
     "text": [
      "[./data/letor/r5w/word_dict.txt]\n",
      "\tWord dict size: 193367\n",
      "[./data/letor/r5w/qid_query.txt]\n",
      "\tData size: 1692\n",
      "[./data/letor/r5w/docid_doc.txt]\n",
      "\tData size: 65323\n",
      "[./data/letor/r5w/embed_wiki-pdc_d50_norm]\n",
      "\tEmbedding size: 109282\n",
      "Generate numpy embed: (193368, 50)\n"
     ]
    }
   ],
   "source": [
    "loader = DataLoader('./config/letor07_mp_fold1.model')"
   ]
  },
  {
   "cell_type": "code",
   "execution_count": 6,
   "metadata": {},
   "outputs": [],
   "source": [
    "import json\n",
    "letor_config = json.loads(open('./config/letor07_mp_fold1.model').read())\n",
    "#device = torch.device(\"cuda\")\n",
    "device = torch.device(\"cpu\")"
   ]
  },
  {
   "cell_type": "code",
   "execution_count": 7,
   "metadata": {},
   "outputs": [
    {
     "name": "stdout",
     "output_type": "stream",
     "text": [
      "[./data/letor/r5w/relation.train.fold1.txt]\n",
      "\tInstance size: 47828\n",
      "Pair Instance Count: 325439\n"
     ]
    }
   ],
   "source": [
    "Letor07Path = letor_config['data_dir']\n",
    "\n",
    "letor_config['fill_word'] = loader._PAD_\n",
    "letor_config['embedding'] = loader.embedding\n",
    "letor_config['feat_size'] = loader.feat_size\n",
    "letor_config['vocab_size'] = loader.embedding.shape[0]\n",
    "letor_config['embed_dim'] = loader.embedding.shape[1]\n",
    "letor_config['pad_value'] = loader._PAD_\n",
    "\n",
    "pair_gen = PairGenerator(rel_file=Letor07Path + '/relation.train.fold%d.txt'%(letor_config['fold']), \n",
    "                         config=letor_config)"
   ]
  },
  {
   "cell_type": "code",
   "execution_count": 8,
   "metadata": {},
   "outputs": [],
   "source": [
    "from deeprank import select_module\n",
    "from deeprank import rank_module"
   ]
  },
  {
   "cell_type": "code",
   "execution_count": 9,
   "metadata": {},
   "outputs": [],
   "source": [
    "letor_config['q_limit'] = 20\n",
    "letor_config['d_limit'] = 2000\n",
    "letor_config['max_match'] = 20\n",
    "letor_config['win_size'] = 5\n",
    "letor_config['finetune_embed'] = True\n",
    "letor_config['lr'] = 0.0001\n",
    "select_net = select_module.PointerNet(config=letor_config)\n",
    "select_net = select_net.to(device)\n",
    "select_net.embedding.weight.data.copy_(torch.from_numpy(loader.embedding))\n",
    "select_net.train()\n",
    "select_optimizer = optim.RMSprop(select_net.parameters(), lr=letor_config['lr'])"
   ]
  },
  {
   "cell_type": "code",
   "execution_count": 10,
   "metadata": {},
   "outputs": [],
   "source": [
    "letor_config['simmat_channel'] = 1\n",
    "letor_config['conv_params'] = [(8, 5, 5)]\n",
    "letor_config['fc_params'] = []\n",
    "letor_config['dpool_size'] = [3, 10]\n",
    "letor_config['lr'] = 0.005\n",
    "letor_config['finetune_embed'] = False\n",
    "rank_net = rank_module.MatchPyramidNet(config=letor_config)\n",
    "rank_net = rank_net.to(device)\n",
    "rank_net.embedding.weight.data.copy_(torch.from_numpy(loader.embedding))\n",
    "rank_net.train()\n",
    "rank_optimizer = optim.Adam(rank_net.parameters(), lr=letor_config['lr'])"
   ]
  },
  {
   "cell_type": "code",
   "execution_count": 11,
   "metadata": {},
   "outputs": [],
   "source": [
    "def to_device(*variables):\n",
    "    return (torch.from_numpy(variable).to(device) for variable in variables)"
   ]
  },
  {
   "cell_type": "code",
   "execution_count": 12,
   "metadata": {},
   "outputs": [],
   "source": [
    "def show_text(x):\n",
    "    print(' '.join([loader.word_dict[w.item()] for w in x]))"
   ]
  },
  {
   "cell_type": "code",
   "execution_count": 13,
   "metadata": {},
   "outputs": [],
   "source": [
    "# X1, X1_len, X1_id, X2, X2_len, X2_id, Y, F = \\\n",
    "#         pair_gen.get_batch(data1=loader.query_data, data2=loader.doc_data)\n",
    "# X1, X1_len, X2, X2_len, Y, F = \\\n",
    "#         to_device(X1, X1_len, X2, X2_len, Y, F)\n",
    "# show_text(X2[0])\n",
    "# X1, X2_new, X1_len, X2_len_new = select_net(X1, X2, X1_len, X2_len, X1_id, X2_id)\n",
    "# show_text(X1[0])\n",
    "# for i in range(5):\n",
    "#     print(i, end=' ')\n",
    "#     show_text(X2_new[0][i])"
   ]
  },
  {
   "cell_type": "code",
   "execution_count": 14,
   "metadata": {},
   "outputs": [],
   "source": [
    "# X1 = X1[:1]\n",
    "# X1_len = X1_len[:1]\n",
    "# X2 = X2[:1]\n",
    "# X2_len = X2_len[:1]\n",
    "# X1_id = X1_id[:1]\n",
    "# X2_id = X2_id[:1]"
   ]
  },
  {
   "cell_type": "code",
   "execution_count": 15,
   "metadata": {},
   "outputs": [],
   "source": [
    "# show_text(X2[0])\n",
    "# X1, X2_new, X1_len, X2_len_new = select_net(X1, X2, X1_len, X2_len, X1_id, X2_id)\n",
    "# show_text(X1[0])\n",
    "# for i in range(5):\n",
    "#     print(i, end=' ')\n",
    "#     show_text(X2_new[0][i])"
   ]
  },
  {
   "cell_type": "code",
   "execution_count": 21,
   "metadata": {
    "scrolled": true
   },
   "outputs": [
    {
     "name": "stdout",
     "output_type": "stream",
     "text": [
      "rank loss: 0.748028039932251\n",
      "select loss: -81.83063507080078\n",
      "rank loss: 0.6956724524497986\n",
      "select loss: -84.35591125488281\n",
      "rank loss: 0.7158995866775513\n",
      "select loss: -74.6168441772461\n",
      "rank loss: 0.7266180515289307\n",
      "select loss: -74.89917755126953\n",
      "rank loss: 0.7044918537139893\n",
      "select loss: -86.19282531738281\n",
      "rank loss: 0.7713779211044312\n",
      "select loss: -51.628108978271484\n",
      "rank loss: 0.7648971080780029\n",
      "select loss: -65.54090118408203\n",
      "rank loss: 0.675477921962738\n",
      "select loss: -107.93647766113281\n",
      "rank loss: 0.680754542350769\n",
      "select loss: -93.41030883789062\n",
      "rank loss: 0.6644151210784912\n",
      "select loss: -98.0960464477539\n",
      "rank loss: 0.695019006729126\n",
      "select loss: -84.1122817993164\n",
      "rank loss: 0.7311475872993469\n",
      "select loss: -86.5036849975586\n",
      "rank loss: 0.6501885056495667\n",
      "select loss: -98.3669662475586\n",
      "rank loss: 0.661821722984314\n",
      "select loss: -86.73979187011719\n",
      "rank loss: 0.5587347149848938\n",
      "select loss: -131.02963256835938\n",
      "rank loss: 0.7607327103614807\n",
      "select loss: -84.34652709960938\n",
      "rank loss: 0.6993395090103149\n",
      "select loss: -116.7369155883789\n",
      "rank loss: 0.7480556964874268\n",
      "select loss: -88.85116577148438\n",
      "rank loss: 0.7617031931877136\n",
      "select loss: -56.13607406616211\n",
      "rank loss: 0.8475300073623657\n",
      "select loss: -47.0311164855957\n",
      "rank loss: 0.8585901856422424\n",
      "select loss: -37.66486358642578\n",
      "rank loss: 0.7191405296325684\n",
      "select loss: -74.92183685302734\n",
      "rank loss: 0.8219630718231201\n",
      "select loss: -60.712284088134766\n",
      "rank loss: 0.766822099685669\n",
      "select loss: -56.50425338745117\n",
      "rank loss: 0.7175042629241943\n",
      "select loss: -56.286800384521484\n",
      "rank loss: 0.674541175365448\n",
      "select loss: -96.06695556640625\n",
      "rank loss: 0.7004568576812744\n",
      "select loss: -84.51824951171875\n",
      "rank loss: 0.7104095220565796\n",
      "select loss: -79.56011199951172\n",
      "rank loss: 0.6354933977127075\n",
      "select loss: -116.72674560546875\n",
      "rank loss: 0.715099573135376\n",
      "select loss: -88.8803482055664\n",
      "rank loss: 0.8557583689689636\n",
      "select loss: -65.75366973876953\n",
      "rank loss: 0.59918612241745\n",
      "select loss: -121.32270812988281\n",
      "rank loss: 0.7829808592796326\n",
      "select loss: -56.12240219116211\n",
      "rank loss: 0.7739992737770081\n",
      "select loss: -95.98124694824219\n",
      "rank loss: 0.733191967010498\n",
      "select loss: -111.95773315429688\n",
      "rank loss: 0.6124416589736938\n",
      "select loss: -89.029541015625\n",
      "rank loss: 0.7039217948913574\n",
      "select loss: -77.10393524169922\n",
      "rank loss: 0.7857274413108826\n",
      "select loss: -67.67027282714844\n",
      "rank loss: 0.7092015147209167\n",
      "select loss: -60.39472579956055\n",
      "rank loss: 0.6625596880912781\n",
      "select loss: -98.2582015991211\n",
      "rank loss: 0.7581697702407837\n",
      "select loss: -89.03389739990234\n",
      "rank loss: 0.7504651546478271\n",
      "select loss: -93.43972778320312\n",
      "rank loss: 0.6179414987564087\n",
      "select loss: -126.32391357421875\n",
      "rank loss: 0.6418800950050354\n",
      "select loss: -105.37834930419922\n",
      "rank loss: 0.597372829914093\n",
      "select loss: -112.32697296142578\n",
      "rank loss: 0.6054518222808838\n",
      "select loss: -100.5439224243164\n",
      "rank loss: 0.7023466229438782\n",
      "select loss: -93.49378967285156\n",
      "rank loss: 0.6923849582672119\n",
      "select loss: -70.3642349243164\n",
      "rank loss: 0.8482933044433594\n",
      "select loss: -51.60386657714844\n",
      "rank loss: 0.6488323211669922\n",
      "select loss: -107.89273071289062\n",
      "rank loss: 0.703976035118103\n",
      "select loss: -75.07489013671875\n",
      "rank loss: 0.6594722867012024\n",
      "select loss: -97.7513656616211\n",
      "rank loss: 0.7003726959228516\n",
      "select loss: -88.7171401977539\n",
      "rank loss: 0.6567056775093079\n",
      "select loss: -95.38640594482422\n",
      "rank loss: 0.8102030158042908\n",
      "select loss: -77.11034393310547\n",
      "rank loss: 0.7262488603591919\n",
      "select loss: -93.40829467773438\n",
      "rank loss: 0.7708709239959717\n",
      "select loss: -86.5846939086914\n",
      "rank loss: 0.7918847799301147\n",
      "select loss: -55.857601165771484\n",
      "rank loss: 0.7368941307067871\n",
      "select loss: -75.03872680664062\n",
      "rank loss: 0.7008466124534607\n",
      "select loss: -86.6266860961914\n",
      "rank loss: 0.7311832904815674\n",
      "select loss: -72.53165435791016\n",
      "rank loss: 0.6192800402641296\n",
      "select loss: -98.39117431640625\n",
      "rank loss: 0.5828803181648254\n",
      "select loss: -135.60076904296875\n",
      "rank loss: 0.7089741230010986\n",
      "select loss: -109.88520812988281\n",
      "rank loss: 0.6385830044746399\n",
      "select loss: -88.91946411132812\n",
      "rank loss: 0.5121015906333923\n",
      "select loss: -126.37430572509766\n",
      "rank loss: 0.7004585266113281\n",
      "select loss: -112.524658203125\n",
      "rank loss: 0.7084556818008423\n",
      "select loss: -107.29647827148438\n",
      "rank loss: 0.7499431371688843\n",
      "select loss: -63.352352142333984\n",
      "rank loss: 0.6264806985855103\n",
      "select loss: -98.70287322998047\n",
      "rank loss: 0.6786337494850159\n",
      "select loss: -79.5581283569336\n",
      "rank loss: 0.6935558319091797\n",
      "select loss: -102.987548828125\n",
      "rank loss: 0.7878133654594421\n",
      "select loss: -74.74958038330078\n",
      "rank loss: 0.703909695148468\n",
      "select loss: -75.15393829345703\n",
      "rank loss: 0.706709623336792\n",
      "select loss: -74.62088775634766\n",
      "rank loss: 0.7612776756286621\n",
      "select loss: -61.09735870361328\n",
      "rank loss: 0.5249735713005066\n",
      "select loss: -121.40701293945312\n",
      "rank loss: 0.7066437602043152\n",
      "select loss: -93.58715057373047\n",
      "rank loss: 0.6888760924339294\n",
      "select loss: -84.560791015625\n",
      "rank loss: 0.7783367037773132\n",
      "select loss: -65.77619934082031\n",
      "rank loss: 0.7391010522842407\n",
      "select loss: -88.83422088623047\n",
      "rank loss: 0.6978844404220581\n",
      "select loss: -97.9472427368164\n",
      "rank loss: 0.7726998925209045\n",
      "select loss: -95.84602355957031\n",
      "rank loss: 0.7669154405593872\n",
      "select loss: -91.4509506225586\n",
      "rank loss: 0.6881594657897949\n",
      "select loss: -93.86343383789062\n",
      "rank loss: 0.6100252866744995\n",
      "select loss: -102.58023071289062\n",
      "rank loss: 0.6452274918556213\n",
      "select loss: -93.71719360351562\n",
      "rank loss: 0.6676673889160156\n",
      "select loss: -93.79805755615234\n",
      "rank loss: 0.6589219570159912\n",
      "select loss: -93.63978576660156\n",
      "rank loss: 0.6509039998054504\n",
      "select loss: -86.80687713623047\n",
      "rank loss: 0.6822324991226196\n",
      "select loss: -88.9411392211914\n",
      "rank loss: 0.6965896487236023\n",
      "select loss: -81.67176818847656\n",
      "rank loss: 0.6704978942871094\n",
      "select loss: -95.78137969970703\n",
      "rank loss: 0.6470246911048889\n",
      "select loss: -112.27503967285156\n",
      "rank loss: 0.7917245626449585\n",
      "select loss: -56.34077453613281\n",
      "rank loss: 0.8061286211013794\n",
      "select loss: -88.97366333007812\n",
      "rank loss: 0.7715729475021362\n",
      "select loss: -70.12582397460938\n",
      "rank loss: 0.6077439785003662\n",
      "select loss: -107.89228820800781\n",
      "rank loss: 0.7886371612548828\n",
      "select loss: -58.348628997802734\n",
      "rank loss: 0.7374395728111267\n",
      "select loss: -79.66680145263672\n",
      "rank loss: 0.7914709448814392\n",
      "select loss: -72.27123260498047\n",
      "rank loss: 0.6757466197013855\n",
      "select loss: -102.97810363769531\n",
      "rank loss: 0.704691469669342\n",
      "select loss: -84.5450210571289\n",
      "rank loss: 0.6557830572128296\n",
      "select loss: -103.03497314453125\n",
      "rank loss: 0.7870634198188782\n",
      "select loss: -79.04458618164062\n",
      "rank loss: 0.7542353868484497\n",
      "select loss: -65.79656219482422\n",
      "rank loss: 0.8172073364257812\n",
      "select loss: -56.128746032714844\n",
      "rank loss: 0.6576693058013916\n",
      "select loss: -96.0663070678711\n",
      "rank loss: 0.7202227711677551\n",
      "select loss: -89.09081268310547\n",
      "rank loss: 0.6581434607505798\n",
      "select loss: -112.86422729492188\n",
      "rank loss: 0.6234647035598755\n",
      "select loss: -105.20883178710938\n",
      "rank loss: 0.9497418403625488\n",
      "select loss: -46.81690979003906\n",
      "rank loss: 0.7149055004119873\n",
      "select loss: -79.66293334960938\n",
      "rank loss: 0.9262728691101074\n",
      "select loss: -23.74439239501953\n",
      "rank loss: 0.7856956720352173\n",
      "select loss: -70.15998840332031\n",
      "rank loss: 0.6659244298934937\n",
      "select loss: -103.00003814697266\n",
      "rank loss: 0.8278683423995972\n",
      "select loss: -72.9976577758789\n",
      "rank loss: 0.7788160443305969\n",
      "select loss: -70.23817443847656\n",
      "rank loss: 0.7960256338119507\n",
      "select loss: -65.40499877929688\n",
      "rank loss: 0.6783843040466309\n",
      "select loss: -111.95907592773438\n",
      "rank loss: 0.7888485789299011\n",
      "select loss: -65.50552368164062\n",
      "rank loss: 0.609134316444397\n",
      "select loss: -109.74901580810547\n",
      "rank loss: 0.708854615688324\n",
      "select loss: -81.84396362304688\n",
      "rank loss: 0.7353621125221252\n",
      "select loss: -84.39080047607422\n",
      "rank loss: 0.8466764688491821\n",
      "select loss: -35.142799377441406\n",
      "rank loss: 0.8196492791175842\n",
      "select loss: -79.46063232421875\n",
      "rank loss: 0.7339369058609009\n",
      "select loss: -88.90338897705078\n",
      "rank loss: 0.8130093216896057\n",
      "select loss: -37.50554275512695\n",
      "rank loss: 0.7280399799346924\n",
      "select loss: -70.44230651855469\n",
      "rank loss: 0.7246173024177551\n",
      "select loss: -74.83332824707031\n",
      "rank loss: 0.7158274054527283\n",
      "select loss: -75.17288970947266\n",
      "rank loss: 0.6659480333328247\n",
      "select loss: -102.94308471679688\n",
      "rank loss: 0.8025743961334229\n"
     ]
    },
    {
     "name": "stdout",
     "output_type": "stream",
     "text": [
      "select loss: -56.31305694580078\n",
      "rank loss: 0.7258126735687256\n",
      "select loss: -82.53302764892578\n",
      "rank loss: 0.7282374501228333\n",
      "select loss: -56.28727722167969\n",
      "rank loss: 0.7001456618309021\n",
      "select loss: -88.99053955078125\n",
      "rank loss: 0.7024471759796143\n",
      "select loss: -75.17156219482422\n",
      "rank loss: 0.6416345238685608\n",
      "select loss: -112.61994934082031\n",
      "rank loss: 0.7538624405860901\n",
      "select loss: -62.988216400146484\n",
      "rank loss: 0.759031355381012\n",
      "select loss: -96.0082015991211\n",
      "rank loss: 0.8021743893623352\n",
      "select loss: -65.6800308227539\n",
      "rank loss: 0.6040209531784058\n",
      "select loss: -133.02374267578125\n",
      "rank loss: 0.5320473909378052\n",
      "select loss: -133.5270538330078\n",
      "rank loss: 0.7553613185882568\n",
      "select loss: -61.046348571777344\n",
      "rank loss: 0.9230668544769287\n",
      "select loss: -56.47019577026367\n",
      "rank loss: 0.7782972455024719\n",
      "select loss: -42.31257629394531\n",
      "rank loss: 0.7545278072357178\n",
      "select loss: -63.388450622558594\n",
      "rank loss: 0.6015785336494446\n",
      "select loss: -107.89686584472656\n",
      "rank loss: 0.6541085839271545\n",
      "select loss: -122.04979705810547\n",
      "rank loss: 0.6646575927734375\n",
      "select loss: -103.19103240966797\n",
      "Time Cost: 483.98458433151245 s\n"
     ]
    }
   ],
   "source": [
    "import time\n",
    "start_t = time.time()\n",
    "for i in range(150):\n",
    "    # One Step Forward\n",
    "    X1, X1_len, X1_id, X2, X2_len, X2_id, Y, F = \\\n",
    "        pair_gen.get_batch(data1=loader.query_data, data2=loader.doc_data)\n",
    "    X1, X1_len, X2, X2_len, Y, F = \\\n",
    "        to_device(X1, X1_len, X2, X2_len, Y, F)\n",
    "    X1, X2, X1_len, X2_len = select_net(X1, X2, X1_len, X2_len, X1_id, X2_id)\n",
    "    X2, X2_len = utils.data_adaptor(X2, X2_len, select_net, rank_net, letor_config)\n",
    "    output = rank_net(X1, X2, X1_len, X2_len, 0)\n",
    "    reward = rank_net.pair_reward(output)\n",
    "    \n",
    "    # Update Rank Net\n",
    "    rank_loss = rank_net.pair_loss(output, Y)\n",
    "    print('rank loss:', rank_loss.item())\n",
    "    rank_optimizer.zero_grad()\n",
    "    rank_loss.backward()\n",
    "    rank_optimizer.step()\n",
    "    \n",
    "    # Update Select Net\n",
    "    select_loss = select_net.loss(reward)\n",
    "    print('select loss:', select_loss.item())\n",
    "    select_optimizer.zero_grad()\n",
    "    select_loss.backward()\n",
    "    select_optimizer.step()\n",
    "    \n",
    "end_t = time.time()\n",
    "print('Time Cost: %s s' % (end_t-start_t))"
   ]
  },
  {
   "cell_type": "code",
   "execution_count": 22,
   "metadata": {},
   "outputs": [],
   "source": [
    "torch.save(select_net.state_dict(), \"identity.ckpt\")\n",
    "torch.save(rank_net.state_dict(), \"matchpyramid.ckpt\")"
   ]
  },
  {
   "cell_type": "code",
   "execution_count": 23,
   "metadata": {},
   "outputs": [],
   "source": [
    "torch.save(select_net, \"identity.model\")\n",
    "torch.save(rank_net, \"matchpyramid.model\")"
   ]
  },
  {
   "cell_type": "raw",
   "metadata": {},
   "source": [
    "GPU v0: Time Cost: 93.18958330154419 s\n",
    "GPU v1: Time Cost: 70.9958758354187 s\n",
    "---\n",
    "CPU v0: Time Cost: 22.77282667160034 s\n",
    "CPU v0 v1: Time Cost: 34.77551507949829 s\n",
    "CPU v1: Time Cost: 74.07408261299133 s\n",
    "CPU v2: Time Cost: 51.10329461097717 s"
   ]
  },
  {
   "cell_type": "raw",
   "metadata": {},
   "source": [
    "GPU Time Cost: 105.99338483810425 s\n",
    "CPU Time Cost: 28.412545680999756 s"
   ]
  },
  {
   "cell_type": "code",
   "execution_count": 24,
   "metadata": {},
   "outputs": [
    {
     "data": {
      "text/plain": [
       "MatchPyramidNet(\n",
       "  (embedding): Embedding(193368, 50, padding_idx=193367)\n",
       "  (conv_sequential): Sequential(\n",
       "    (0): Conv2d(1, 8, kernel_size=[5, 5], stride=(1, 1), padding=[2, 2])\n",
       "  )\n",
       "  (dpool_layer): AdaptiveMaxPool2d(output_size=[3, 10])\n",
       "  (fc_sequential): Sequential()\n",
       "  (out_layer): Linear(in_features=240, out_features=1, bias=True)\n",
       ")"
      ]
     },
     "execution_count": 24,
     "metadata": {},
     "output_type": "execute_result"
    }
   ],
   "source": [
    "rank_net"
   ]
  },
  {
   "cell_type": "code",
   "execution_count": null,
   "metadata": {},
   "outputs": [
    {
     "name": "stdout",
     "output_type": "stream",
     "text": [
      "[./data/letor/r5w/relation.test.fold1.txt]\n",
      "\tInstance size: 13652\n",
      "List Instance Count: 336\n"
     ]
    }
   ],
   "source": [
    "select_net_e = torch.load(f='identity.model')\n",
    "rank_net_e = torch.load(f='matchpyramid.model')\n",
    "\n",
    "list_gen = ListGenerator(rel_file=Letor07Path+'/relation.test.fold%d.txt'%(letor_config['fold']),\n",
    "                         config=letor_config)\n",
    "map_v = 0.0\n",
    "map_c = 0.0\n",
    "\n",
    "with torch.no_grad():\n",
    "    for X1, X1_len, X1_id, X2, X2_len, X2_id, Y, F in \\\n",
    "        list_gen.get_batch(data1=loader.query_data, data2=loader.doc_data):\n",
    "        #print(X1.shape, X2.shape, Y.shape)\n",
    "        X1, X1_len, X2, X2_len, Y, F = to_device(X1, X1_len, X2, X2_len, Y, F)\n",
    "        X1, X2, X1_len, X2_len = select_net_e(X1, X2, X1_len, X2_len, X1_id, X2_id)\n",
    "        X2, X2_len = utils.data_adaptor(X2, X2_len, select_net, rank_net, letor_config)\n",
    "        #print(X1.shape, X2.shape, Y.shape)\n",
    "        pred = rank_net_e(X1, X2, X1_len, X2_len, 0)\n",
    "        map_o = utils.eval_MAP(pred.tolist(), Y.tolist())\n",
    "        #print(pred.shape, Y.shape)\n",
    "        map_v += map_o\n",
    "        map_c += 1.0\n",
    "    map_v /= map_c\n",
    "\n",
    "print('[Test]', map_v)"
   ]
  },
  {
   "cell_type": "code",
   "execution_count": null,
   "metadata": {},
   "outputs": [],
   "source": []
  },
  {
   "cell_type": "code",
   "execution_count": null,
   "metadata": {},
   "outputs": [],
   "source": []
  }
 ],
 "metadata": {
  "kernelspec": {
   "display_name": "nips",
   "language": "python",
   "name": "nips"
  },
  "language_info": {
   "codemirror_mode": {
    "name": "ipython",
    "version": 3
   },
   "file_extension": ".py",
   "mimetype": "text/x-python",
   "name": "python",
   "nbconvert_exporter": "python",
   "pygments_lexer": "ipython3",
   "version": "3.6.2"
  }
 },
 "nbformat": 4,
 "nbformat_minor": 2
}
