{
 "cells": [
  {
   "cell_type": "code",
   "execution_count": 1,
   "metadata": {},
   "outputs": [],
   "source": [
    "%load_ext autoreload\n",
    "%autoreload 2"
   ]
  },
  {
   "cell_type": "code",
   "execution_count": 2,
   "metadata": {
    "scrolled": true
   },
   "outputs": [],
   "source": [
    "from __future__ import print_function\n",
    "import argparse\n",
    "import torch\n",
    "import torch.nn as nn\n",
    "import torch.nn.functional as F\n",
    "import torch.optim as optim\n",
    "from importlib import reload "
   ]
  },
  {
   "cell_type": "code",
   "execution_count": 3,
   "metadata": {},
   "outputs": [],
   "source": [
    "from deeprank.dataset import DataLoader, PairGenerator, ListGenerator\n",
    "from deeprank import utils"
   ]
  },
  {
   "cell_type": "code",
   "execution_count": 4,
   "metadata": {},
   "outputs": [
    {
     "data": {
      "text/plain": [
       "<torch._C.Generator at 0x7fe39c0efab0>"
      ]
     },
     "execution_count": 4,
     "metadata": {},
     "output_type": "execute_result"
    }
   ],
   "source": [
    "seed = 1234\n",
    "torch.manual_seed(seed)"
   ]
  },
  {
   "cell_type": "code",
   "execution_count": 5,
   "metadata": {},
   "outputs": [
    {
     "name": "stdout",
     "output_type": "stream",
     "text": [
      "[./data/letor/r5w/word_dict.txt]\n",
      "\tWord dict size: 193367\n",
      "[./data/letor/r5w/qid_query.txt]\n",
      "\tData size: 1692\n",
      "[./data/letor/r5w/docid_doc.txt]\n",
      "\tData size: 65323\n",
      "[./data/letor/r5w/embed_wiki-pdc_d50_norm]\n",
      "\tEmbedding size: 109282\n",
      "Generate numpy embed: (193368, 50)\n"
     ]
    }
   ],
   "source": [
    "loader = DataLoader('./config/letor07_mp_fold1.model')"
   ]
  },
  {
   "cell_type": "code",
   "execution_count": 6,
   "metadata": {},
   "outputs": [],
   "source": [
    "import json\n",
    "letor_config = json.loads(open('./config/letor07_mp_fold1.model').read())\n",
    "#device = torch.device(\"cuda\")\n",
    "device = torch.device(\"cpu\")"
   ]
  },
  {
   "cell_type": "code",
   "execution_count": 7,
   "metadata": {},
   "outputs": [
    {
     "name": "stdout",
     "output_type": "stream",
     "text": [
      "[./data/letor/r5w/relation.train.fold1.txt]\n",
      "\tInstance size: 47828\n",
      "Pair Instance Count: 325439\n"
     ]
    }
   ],
   "source": [
    "Letor07Path = letor_config['data_dir']\n",
    "\n",
    "letor_config['fill_word'] = loader._PAD_\n",
    "letor_config['embedding'] = loader.embedding\n",
    "letor_config['feat_size'] = loader.feat_size\n",
    "letor_config['vocab_size'] = loader.embedding.shape[0]\n",
    "letor_config['embed_dim'] = loader.embedding.shape[1]\n",
    "letor_config['pad_value'] = loader._PAD_\n",
    "\n",
    "pair_gen = PairGenerator(rel_file=Letor07Path + '/relation.train.fold%d.txt'%(letor_config['fold']), \n",
    "                         config=letor_config)"
   ]
  },
  {
   "cell_type": "code",
   "execution_count": 8,
   "metadata": {},
   "outputs": [],
   "source": [
    "from deeprank import select_module\n",
    "from deeprank import rank_module"
   ]
  },
  {
   "cell_type": "code",
   "execution_count": 9,
   "metadata": {},
   "outputs": [],
   "source": [
    "select_net = select_module.IdentityNet(config=letor_config)\n",
    "select_net.train()\n",
    "select_net = select_net.to(device)"
   ]
  },
  {
   "cell_type": "code",
   "execution_count": 10,
   "metadata": {},
   "outputs": [],
   "source": [
    "letor_config['q_limit'] = 20\n",
    "letor_config['d_limit'] = 500\n",
    "letor_config['max_match'] = 5\n",
    "letor_config['win_size'] = 5\n",
    "select_net = select_module.QueryCentricNet(config=letor_config)\n",
    "select_net.train()\n",
    "select_net = select_net.to(device)"
   ]
  },
  {
   "cell_type": "code",
   "execution_count": 11,
   "metadata": {},
   "outputs": [],
   "source": [
    "letor_config['q_limit'] = 20\n",
    "letor_config['d_limit'] = 500\n",
    "letor_config['max_match'] = 5\n",
    "letor_config['win_size'] = 5\n",
    "letor_config['finetune_embed'] = False\n",
    "select_net = select_module.PointerNet(config=letor_config)\n",
    "select_net.train()\n",
    "select_net = select_net.to(device)"
   ]
  },
  {
   "cell_type": "code",
   "execution_count": 12,
   "metadata": {},
   "outputs": [],
   "source": [
    "# letor_config['simmat_channel'] = 1\n",
    "# letor_config['conv_params'] = [(8, 2, 10)]\n",
    "# letor_config['fc_params'] = [50]\n",
    "# letor_config['dpool_size'] = [3, 10]\n",
    "# letor_config['lr'] = 0.001\n",
    "# letor_config['finetune_embed'] = False\n",
    "# rank_net = rank_module.MatchPyramidNet(config=letor_config)\n",
    "# rank_net.embedding.weight.data.copy_(torch.from_numpy(loader.embedding))\n",
    "# rank_net.train()\n",
    "# optimizer = optim.Adam(rank_net.parameters(), lr=letor_config['lr'])"
   ]
  },
  {
   "cell_type": "code",
   "execution_count": 13,
   "metadata": {},
   "outputs": [],
   "source": [
    "letor_config['simmat_channel'] = 1\n",
    "letor_config['conv_params'] = [(8, 3, 3)]\n",
    "letor_config['fc_params'] = [200]\n",
    "letor_config['dpool_size'] = [3, 10]\n",
    "letor_config['lr'] = 0.001\n",
    "letor_config['finetune_embed'] = False\n",
    "rank_net = rank_module.MatchPyramidNet(config=letor_config)\n",
    "rank_net = rank_net.to(device)\n",
    "rank_net.embedding.weight.data.copy_(torch.from_numpy(loader.embedding))\n",
    "rank_net.train()\n",
    "optimizer = optim.Adam(rank_net.parameters(), lr=letor_config['lr'])"
   ]
  },
  {
   "cell_type": "code",
   "execution_count": 14,
   "metadata": {},
   "outputs": [],
   "source": [
    "def to_device(*variables):\n",
    "    return (torch.from_numpy(variable).to(device) for variable in variables)"
   ]
  },
  {
   "cell_type": "code",
   "execution_count": 15,
   "metadata": {
    "scrolled": false
   },
   "outputs": [
    {
     "name": "stdout",
     "output_type": "stream",
     "text": [
      "0.9980525374412537\n",
      "0.985288679599762\n",
      "0.9936937689781189\n",
      "0.9841791391372681\n",
      "0.9776427149772644\n",
      "0.9458248019218445\n",
      "0.9543267488479614\n",
      "0.9224098324775696\n",
      "0.9914007186889648\n",
      "1.0139590501785278\n",
      "0.9459705948829651\n",
      "0.9567182064056396\n",
      "0.8536685705184937\n",
      "1.0058071613311768\n",
      "0.8879978656768799\n",
      "0.8629388809204102\n",
      "0.8691524863243103\n",
      "0.9593749046325684\n",
      "0.9348424077033997\n",
      "0.909866988658905\n",
      "0.7485393285751343\n",
      "0.9117458462715149\n",
      "0.9740102291107178\n",
      "0.8736965656280518\n",
      "0.8772196769714355\n",
      "0.9152899384498596\n",
      "1.0229172706604004\n",
      "0.9273777604103088\n",
      "0.8982543349266052\n",
      "0.8502958416938782\n",
      "0.8788208365440369\n",
      "0.8815294504165649\n",
      "0.9403094053268433\n",
      "0.859752893447876\n",
      "0.891225278377533\n",
      "0.8960438966751099\n",
      "0.8490146398544312\n",
      "0.8890631794929504\n",
      "0.8776953220367432\n",
      "0.8999330997467041\n",
      "0.8951934576034546\n",
      "0.8349348902702332\n",
      "0.9231674671173096\n",
      "0.931037425994873\n",
      "0.7456488013267517\n",
      "0.9343036413192749\n",
      "0.8365973830223083\n",
      "0.9466518759727478\n",
      "0.8679417371749878\n",
      "0.8805765509605408\n",
      "0.9309817552566528\n",
      "0.8150728940963745\n",
      "0.8090298771858215\n",
      "0.7014466524124146\n",
      "0.8711653351783752\n",
      "1.0253750085830688\n",
      "0.8254110813140869\n",
      "0.9250268936157227\n",
      "0.7433592677116394\n",
      "0.8759011030197144\n",
      "0.7864062786102295\n",
      "0.8288888335227966\n",
      "0.9232437014579773\n",
      "0.8306760191917419\n",
      "0.8279156684875488\n",
      "0.9687145352363586\n",
      "0.919741153717041\n",
      "0.8082011342048645\n",
      "0.9283105134963989\n",
      "0.8961735963821411\n",
      "0.8710007071495056\n",
      "0.8870195150375366\n",
      "0.9057183861732483\n",
      "0.8135488033294678\n",
      "1.0187854766845703\n",
      "1.0433485507965088\n",
      "0.7986942529678345\n",
      "0.9051443934440613\n",
      "0.7919087409973145\n",
      "0.9097640514373779\n",
      "0.9239946603775024\n",
      "0.8663330674171448\n",
      "0.8653995990753174\n",
      "0.7573914527893066\n",
      "0.851259708404541\n",
      "0.8829782009124756\n",
      "0.8029581904411316\n",
      "0.8636157512664795\n",
      "0.8337298631668091\n",
      "0.8506485223770142\n",
      "0.9344654679298401\n",
      "0.9134923219680786\n",
      "0.9105470180511475\n",
      "0.8840025067329407\n",
      "0.8741242289543152\n",
      "0.8306137323379517\n",
      "0.7566582560539246\n",
      "0.7978304028511047\n",
      "0.8945876955986023\n",
      "0.9467429518699646\n",
      "0.7842311263084412\n",
      "0.8471843004226685\n",
      "0.9741905927658081\n",
      "0.9207556247711182\n",
      "0.8935508728027344\n",
      "0.7611503601074219\n",
      "0.7811474800109863\n",
      "0.9176418781280518\n",
      "0.9583582282066345\n",
      "0.9201858043670654\n",
      "0.8397241830825806\n",
      "0.9386759400367737\n",
      "0.8231894969940186\n",
      "0.8769730925559998\n",
      "0.8397279381752014\n",
      "0.768539547920227\n",
      "0.8629599809646606\n",
      "0.7932806015014648\n",
      "0.794802725315094\n",
      "0.8198294043540955\n",
      "0.8167215585708618\n",
      "0.7707715034484863\n",
      "0.8643443584442139\n",
      "0.968315839767456\n",
      "0.8840349912643433\n",
      "0.8945414423942566\n",
      "0.8804805278778076\n",
      "0.961211085319519\n",
      "0.8468225002288818\n",
      "0.9662402272224426\n",
      "0.7088679671287537\n",
      "0.8844985961914062\n",
      "0.8376578688621521\n",
      "0.8636331558227539\n",
      "0.9065313935279846\n",
      "0.7270671725273132\n",
      "0.928510308265686\n",
      "0.8813285827636719\n",
      "0.9688413143157959\n",
      "0.8302696347236633\n",
      "0.8682146668434143\n",
      "0.9517824053764343\n",
      "0.8221596479415894\n",
      "0.9597196578979492\n",
      "0.9580332040786743\n",
      "0.9473350644111633\n",
      "0.8048120141029358\n",
      "0.9669694900512695\n",
      "0.8265963196754456\n",
      "0.981526792049408\n",
      "Time Cost: 65.531165599823 s\n"
     ]
    }
   ],
   "source": [
    "import time\n",
    "start_t = time.time()\n",
    "for i in range(150):\n",
    "    X1, X1_len, X1_id, X2, X2_len, X2_id, Y, F = \\\n",
    "        pair_gen.get_batch(data1=loader.query_data, data2=loader.doc_data)\n",
    "    X1, X1_len, X2, X2_len, Y, F = \\\n",
    "        to_device(X1, X1_len, X2, X2_len, Y, F)\n",
    "    X1, X2, X1_len, X2_len = select_net(X1, X2, X1_len, X2_len, X1_id, X2_id)\n",
    "    X2, X2_len = utils.data_adaptor(X2, X2_len, select_net, rank_net, letor_config)\n",
    "    output = rank_net(X1, X2, X1_len, X2_len, 0)\n",
    "    loss = rank_net.pair_loss(output, Y)\n",
    "    print(loss.item())\n",
    "    optimizer.zero_grad()\n",
    "    loss.backward()\n",
    "    optimizer.step()\n",
    "end_t = time.time()\n",
    "print('Time Cost: %s s' % (end_t-start_t))"
   ]
  },
  {
   "cell_type": "code",
   "execution_count": 16,
   "metadata": {},
   "outputs": [],
   "source": [
    "torch.save(select_net.state_dict(), \"identity.ckpt\")\n",
    "torch.save(rank_net.state_dict(), \"matchpyramid.ckpt\")"
   ]
  },
  {
   "cell_type": "code",
   "execution_count": 17,
   "metadata": {},
   "outputs": [],
   "source": [
    "torch.save(select_net, \"identity.model\")\n",
    "torch.save(rank_net, \"matchpyramid.model\")"
   ]
  },
  {
   "cell_type": "raw",
   "metadata": {},
   "source": [
    "GPU v0: Time Cost: 93.18958330154419 s\n",
    "GPU v1: Time Cost: 70.9958758354187 s\n",
    "---\n",
    "CPU v0: Time Cost: 22.77282667160034 s\n",
    "CPU v0 v1: Time Cost: 34.77551507949829 s\n",
    "CPU v1: Time Cost: 74.07408261299133 s\n",
    "CPU v2: Time Cost: 51.10329461097717 s"
   ]
  },
  {
   "cell_type": "raw",
   "metadata": {},
   "source": [
    "GPU Time Cost: 105.99338483810425 s\n",
    "CPU Time Cost: 28.412545680999756 s"
   ]
  },
  {
   "cell_type": "code",
   "execution_count": 18,
   "metadata": {},
   "outputs": [
    {
     "data": {
      "text/plain": [
       "MatchPyramidNet(\n",
       "  (embedding): Embedding(193368, 50, padding_idx=193367)\n",
       "  (conv_sequential): Sequential(\n",
       "    (0): Conv2d(1, 8, kernel_size=[3, 3], stride=(1, 1), padding=(1, 1))\n",
       "  )\n",
       "  (dpool_layer): AdaptiveMaxPool2d(output_size=[3, 10])\n",
       "  (fc_sequential): Sequential(\n",
       "    (0): Linear(in_features=240, out_features=200, bias=True)\n",
       "  )\n",
       "  (out_layer): Linear(in_features=200, out_features=1, bias=True)\n",
       ")"
      ]
     },
     "execution_count": 18,
     "metadata": {},
     "output_type": "execute_result"
    }
   ],
   "source": [
    "rank_net"
   ]
  },
  {
   "cell_type": "code",
   "execution_count": 19,
   "metadata": {},
   "outputs": [
    {
     "name": "stdout",
     "output_type": "stream",
     "text": [
      "[./data/letor/r5w/relation.test.fold1.txt]\n",
      "\tInstance size: 13652\n",
      "List Instance Count: 336\n",
      "[Test] 0.37934977287443\n"
     ]
    }
   ],
   "source": [
    "select_net_e = torch.load(f='identity.model')\n",
    "rank_net_e = torch.load(f='matchpyramid.model')\n",
    "\n",
    "list_gen = ListGenerator(rel_file=Letor07Path+'/relation.test.fold%d.txt'%(letor_config['fold']),\n",
    "                         config=letor_config)\n",
    "map_v = 0.0\n",
    "map_c = 0.0\n",
    "\n",
    "with torch.no_grad():\n",
    "    for X1, X1_len, X1_id, X2, X2_len, X2_id, Y, F in \\\n",
    "        list_gen.get_batch(data1=loader.query_data, data2=loader.doc_data):\n",
    "        #print(X1.shape, X2.shape, Y.shape)\n",
    "        X1, X1_len, X2, X2_len, Y, F = to_device(X1, X1_len, X2, X2_len, Y, F)\n",
    "        X1, X2, X1_len, X2_len = select_net_e(X1, X2, X1_len, X2_len, X1_id, X2_id)\n",
    "        X2, X2_len = utils.data_adaptor(X2, X2_len, select_net, rank_net, letor_config)\n",
    "        #print(X1.shape, X2.shape, Y.shape)\n",
    "        pred = rank_net_e(X1, X2, X1_len, X2_len, 0)\n",
    "        map_o = utils.eval_MAP(pred.tolist(), Y.tolist())\n",
    "        #print(pred.shape, Y.shape)\n",
    "        map_v += map_o\n",
    "        map_c += 1.0\n",
    "    map_v /= map_c\n",
    "\n",
    "print('[Test]', map_v)"
   ]
  },
  {
   "cell_type": "code",
   "execution_count": null,
   "metadata": {},
   "outputs": [],
   "source": []
  }
 ],
 "metadata": {
  "kernelspec": {
   "display_name": "nips",
   "language": "python",
   "name": "nips"
  },
  "language_info": {
   "codemirror_mode": {
    "name": "ipython",
    "version": 3
   },
   "file_extension": ".py",
   "mimetype": "text/x-python",
   "name": "python",
   "nbconvert_exporter": "python",
   "pygments_lexer": "ipython3",
   "version": "3.6.2"
  }
 },
 "nbformat": 4,
 "nbformat_minor": 2
}
