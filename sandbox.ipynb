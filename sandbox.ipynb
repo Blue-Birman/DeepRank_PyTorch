{
 "cells": [
  {
   "cell_type": "code",
   "execution_count": 1,
   "metadata": {},
   "outputs": [],
   "source": [
    "from __future__ import print_function\n",
    "import argparse\n",
    "import torch\n",
    "import torch.nn as nn\n",
    "import torch.nn.functional as F\n",
    "import torch.optim as optim\n",
    "from importlib import reload "
   ]
  },
  {
   "cell_type": "code",
   "execution_count": 2,
   "metadata": {},
   "outputs": [],
   "source": [
    "from deeprank.dataset import DataLoader, PairGenerator, ListGenerator"
   ]
  },
  {
   "cell_type": "code",
   "execution_count": 3,
   "metadata": {},
   "outputs": [
    {
     "name": "stdout",
     "output_type": "stream",
     "text": [
      "[./data/letor/r5w/word_dict.txt]\n",
      "\tWord dict size: 193367\n",
      "[./data/letor/r5w/qid_query.txt]\n",
      "\tData size: 1692\n",
      "[./data/letor/r5w/docid_doc.txt]\n",
      "\tData size: 65323\n",
      "[./data/letor/r5w/embed_wiki-pdc_d50_norm]\n",
      "\tEmbedding size: 109282\n",
      "Generate numpy embed: (193368, 50)\n"
     ]
    }
   ],
   "source": [
    "loader = DataLoader('./config/letor07_mp_fold1.model')"
   ]
  },
  {
   "cell_type": "code",
   "execution_count": 4,
   "metadata": {},
   "outputs": [],
   "source": [
    "import json\n",
    "letor_config = json.loads(open('./config/letor07_mp_fold1.model').read())\n",
    "device = torch.device(\"cuda\")\n",
    "#device = torch.device(\"cpu\")"
   ]
  },
  {
   "cell_type": "code",
   "execution_count": 5,
   "metadata": {},
   "outputs": [
    {
     "name": "stdout",
     "output_type": "stream",
     "text": [
      "[./data/letor/r5w/relation.train.fold1.txt]\n",
      "\tInstance size: 47828\n",
      "Pair Instance Count: 325439\n"
     ]
    }
   ],
   "source": [
    "Letor07Path = letor_config['data_dir']\n",
    "\n",
    "letor_config['fill_word'] = loader._PAD_\n",
    "letor_config['embedding'] = loader.embedding\n",
    "letor_config['feat_size'] = loader.feat_size\n",
    "letor_config['vocab_size'] = loader.embedding.shape[0]\n",
    "letor_config['embed_dim'] = loader.embedding.shape[1]\n",
    "\n",
    "pair_gen = PairGenerator(rel_file=Letor07Path + '/relation.train.fold%d.txt'%(letor_config['fold']), \n",
    "                         config=letor_config, device=device)"
   ]
  },
  {
   "cell_type": "code",
   "execution_count": 6,
   "metadata": {},
   "outputs": [],
   "source": [
    "from deeprank import select_module\n",
    "from deeprank import rank_module\n",
    "\n",
    "select_module = reload(select_module)\n",
    "rank_module = reload(rank_module)"
   ]
  },
  {
   "cell_type": "code",
   "execution_count": 7,
   "metadata": {},
   "outputs": [],
   "source": [
    "select_net = select_module.IdentityNet(config=letor_config, device=device)\n",
    "select_net.train()\n",
    "select_net = select_net.to(device)"
   ]
  },
  {
   "cell_type": "code",
   "execution_count": 8,
   "metadata": {},
   "outputs": [],
   "source": [
    "letor_config['simmat_channel'] = 1\n",
    "letor_config['conv_params'] = [(8, 2, 10)]\n",
    "letor_config['fc_params'] = [50]\n",
    "letor_config['dpool_size'] = [3, 10]\n",
    "letor_config['lr'] = 0.001\n",
    "letor_config['finetune_embed'] = False\n",
    "rank_net = rank_module.MatchPyramidNet(config=letor_config)\n",
    "rank_net.embedding.weight.data.copy_(torch.from_numpy(loader.embedding))\n",
    "rank_net.train()\n",
    "optimizer = optim.Adam(rank_net.parameters(), lr=letor_config['lr'])"
   ]
  },
  {
   "cell_type": "code",
   "execution_count": 9,
   "metadata": {},
   "outputs": [],
   "source": [
    "letor_config['simmat_channel'] = 1\n",
    "letor_config['conv_params'] = [(8, 3, 3)]\n",
    "letor_config['fc_params'] = [200]\n",
    "letor_config['dpool_size'] = [3, 10]\n",
    "letor_config['lr'] = 0.001\n",
    "letor_config['finetune_embed'] = False\n",
    "rank_net = rank_module.MatchPyramidNet(config=letor_config, device=device)\n",
    "rank_net = rank_net.to(device)\n",
    "rank_net.embedding.weight.data.copy_(torch.from_numpy(loader.embedding))\n",
    "rank_net.train()\n",
    "optimizer = optim.Adam(rank_net.parameters(), lr=letor_config['lr'])"
   ]
  },
  {
   "cell_type": "code",
   "execution_count": 10,
   "metadata": {
    "scrolled": true
   },
   "outputs": [
    {
     "name": "stdout",
     "output_type": "stream",
     "text": [
      "tensor(0.9918, device='cuda:0', grad_fn=<MeanBackward1>)\n",
      "tensor(0.9925, device='cuda:0', grad_fn=<MeanBackward1>)\n",
      "tensor(0.9784, device='cuda:0', grad_fn=<MeanBackward1>)\n",
      "tensor(0.9941, device='cuda:0', grad_fn=<MeanBackward1>)\n",
      "tensor(0.9757, device='cuda:0', grad_fn=<MeanBackward1>)\n",
      "tensor(0.9591, device='cuda:0', grad_fn=<MeanBackward1>)\n",
      "tensor(0.9590, device='cuda:0', grad_fn=<MeanBackward1>)\n",
      "tensor(0.8981, device='cuda:0', grad_fn=<MeanBackward1>)\n",
      "tensor(0.9909, device='cuda:0', grad_fn=<MeanBackward1>)\n",
      "tensor(0.9288, device='cuda:0', grad_fn=<MeanBackward1>)\n",
      "tensor(0.9889, device='cuda:0', grad_fn=<MeanBackward1>)\n",
      "tensor(0.8583, device='cuda:0', grad_fn=<MeanBackward1>)\n",
      "tensor(0.9804, device='cuda:0', grad_fn=<MeanBackward1>)\n",
      "tensor(0.9684, device='cuda:0', grad_fn=<MeanBackward1>)\n",
      "tensor(0.9864, device='cuda:0', grad_fn=<MeanBackward1>)\n",
      "tensor(0.7860, device='cuda:0', grad_fn=<MeanBackward1>)\n",
      "tensor(0.8849, device='cuda:0', grad_fn=<MeanBackward1>)\n",
      "tensor(0.9801, device='cuda:0', grad_fn=<MeanBackward1>)\n",
      "tensor(0.8418, device='cuda:0', grad_fn=<MeanBackward1>)\n",
      "tensor(1.0594, device='cuda:0', grad_fn=<MeanBackward1>)\n",
      "tensor(0.6770, device='cuda:0', grad_fn=<MeanBackward1>)\n",
      "tensor(0.8827, device='cuda:0', grad_fn=<MeanBackward1>)\n",
      "tensor(0.8945, device='cuda:0', grad_fn=<MeanBackward1>)\n",
      "tensor(0.7390, device='cuda:0', grad_fn=<MeanBackward1>)\n",
      "tensor(0.5836, device='cuda:0', grad_fn=<MeanBackward1>)\n",
      "tensor(0.7185, device='cuda:0', grad_fn=<MeanBackward1>)\n",
      "tensor(1.1702, device='cuda:0', grad_fn=<MeanBackward1>)\n",
      "tensor(0.9679, device='cuda:0', grad_fn=<MeanBackward1>)\n",
      "tensor(0.5969, device='cuda:0', grad_fn=<MeanBackward1>)\n",
      "tensor(0.7947, device='cuda:0', grad_fn=<MeanBackward1>)\n",
      "tensor(0.6152, device='cuda:0', grad_fn=<MeanBackward1>)\n",
      "tensor(0.6370, device='cuda:0', grad_fn=<MeanBackward1>)\n",
      "tensor(0.7178, device='cuda:0', grad_fn=<MeanBackward1>)\n",
      "tensor(0.9662, device='cuda:0', grad_fn=<MeanBackward1>)\n",
      "tensor(0.7598, device='cuda:0', grad_fn=<MeanBackward1>)\n",
      "tensor(0.6968, device='cuda:0', grad_fn=<MeanBackward1>)\n",
      "tensor(1.2416, device='cuda:0', grad_fn=<MeanBackward1>)\n",
      "tensor(0.9852, device='cuda:0', grad_fn=<MeanBackward1>)\n",
      "tensor(0.6902, device='cuda:0', grad_fn=<MeanBackward1>)\n",
      "tensor(0.7743, device='cuda:0', grad_fn=<MeanBackward1>)\n",
      "tensor(1.1148, device='cuda:0', grad_fn=<MeanBackward1>)\n",
      "tensor(1.4839, device='cuda:0', grad_fn=<MeanBackward1>)\n",
      "tensor(0.9467, device='cuda:0', grad_fn=<MeanBackward1>)\n",
      "tensor(0.9973, device='cuda:0', grad_fn=<MeanBackward1>)\n",
      "tensor(0.8065, device='cuda:0', grad_fn=<MeanBackward1>)\n",
      "tensor(0.4348, device='cuda:0', grad_fn=<MeanBackward1>)\n",
      "tensor(0.7180, device='cuda:0', grad_fn=<MeanBackward1>)\n",
      "tensor(0.8122, device='cuda:0', grad_fn=<MeanBackward1>)\n",
      "tensor(1.0510, device='cuda:0', grad_fn=<MeanBackward1>)\n",
      "tensor(0.5914, device='cuda:0', grad_fn=<MeanBackward1>)\n",
      "Time Cost: 93.18958330154419 s\n"
     ]
    }
   ],
   "source": [
    "import time\n",
    "start_t = time.time()\n",
    "for i in range(50):\n",
    "    X1, X1_len, X2, X2_len, Y, F = pair_gen.get_batch(data1=loader.query_data, data2=loader.doc_data)\n",
    "    X1, X2, X1_len, X2_len = select_net(X1, X2, X1_len, X2_len)\n",
    "    output = rank_net(X1, X2, X1_len, X2_len)\n",
    "    loss = rank_net.pair_loss(output, Y)\n",
    "    print(loss)\n",
    "    optimizer.zero_grad()\n",
    "    loss.backward()\n",
    "    optimizer.step()\n",
    "end_t = time.time()\n",
    "print('Time Cost: %s s' % (end_t-start_t))"
   ]
  },
  {
   "cell_type": "raw",
   "metadata": {},
   "source": [
    "GPU: Time Cost: 93.18958330154419 s\n",
    "CPU v0: Time Cost: 22.77282667160034 s\n",
    "CPU v1: Time Cost: 74.07408261299133 s\n",
    "CPU v2: Time Cost: 51.10329461097717 s"
   ]
  },
  {
   "cell_type": "code",
   "execution_count": null,
   "metadata": {},
   "outputs": [],
   "source": []
  }
 ],
 "metadata": {
  "kernelspec": {
   "display_name": "nips",
   "language": "python",
   "name": "nips"
  },
  "language_info": {
   "codemirror_mode": {
    "name": "ipython",
    "version": 3
   },
   "file_extension": ".py",
   "mimetype": "text/x-python",
   "name": "python",
   "nbconvert_exporter": "python",
   "pygments_lexer": "ipython3",
   "version": "3.6.2"
  }
 },
 "nbformat": 4,
 "nbformat_minor": 2
}
